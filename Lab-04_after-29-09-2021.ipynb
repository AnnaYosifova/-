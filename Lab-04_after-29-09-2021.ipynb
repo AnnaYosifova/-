{
 "cells": [
  {
   "cell_type": "markdown",
   "id": "a1aef29b",
   "metadata": {},
   "source": [
    "`Дисциплина: Методы и технологии машинного обучения`   \n",
    "`Уровень подготовки: бакалавриат`   \n",
    "`Направление подготовки: 01.03.02 Прикладная математика и информатика`   \n",
    "`Семестр: осень 2021/2022`   \n",
    "\n",
    "\n",
    "\n",
    "\n",
    "# Лабораторная работа №4: Методы снижения размерности. Регуляризация логистической регрессии. \n",
    "\n",
    "В практических примерах ниже показано:   \n",
    "\n",
    "* как снижать размерность пространства признаков методами главных компонент (PCR), частных наименьшах квадратов (PLS)  \n",
    "* как строить логистическую регрессию с регуляризацией параметров (методы ридж и лассо) \n",
    "\n",
    "Точность всех моделей оценивается методом перекрёстной проверки по 10 блокам.  \n",
    "\n",
    "*Модели*: множественная линейная регрессия \n",
    "*Данные*: `winequality-white_for_lab` (источник: https://github.com/aksyuk/MTML/blob/main/Labs/data/winequality-white_for_lab.csv)"
   ]
  },
  {
   "cell_type": "markdown",
   "id": "61b9ab5d",
   "metadata": {},
   "source": [
    "## Загружаем пакеты"
   ]
  },
  {
   "cell_type": "code",
   "execution_count": 63,
   "id": "c8fa189c",
   "metadata": {},
   "outputs": [],
   "source": [
    "# загрузка пакетов: инструменты --------------------------------------------\n",
    "#  работа с массивами\n",
    "import numpy as np\n",
    "#  фреймы данных\n",
    "import pandas as pd\n",
    "#  распределение Стьюдента для проверки значимости\n",
    "from scipy.stats import t\n",
    "# подсчёт частот внутри массива\n",
    "from collections import Counter\n",
    "#  графики\n",
    "import matplotlib as mpl\n",
    "#  стили и шаблоны графиков на основе matplotlib\n",
    "import seaborn as sns\n",
    "\n",
    "\n",
    "# загрузка пакетов: модели -------------------------------------------------\n",
    "#  стандартизация показателей\n",
    "from sklearn.preprocessing import StandardScaler\n",
    "#  метод главных компонент\n",
    "from sklearn.decomposition import PCA\n",
    "# метод частных наименьших квадратов\n",
    "from sklearn.cross_decomposition import PLSRegression\n",
    "#  логистическая регрессия (ММП)\n",
    "from sklearn.linear_model import LogisticRegression, LogisticRegressionCV\n",
    "#  перекрёстная проверка по k блокам\n",
    "from sklearn.model_selection import KFold, cross_val_score\n",
    "#  расчёт Acc и сводка по точности классификации\n",
    "from sklearn.metrics import accuracy_score, classification_report"
   ]
  },
  {
   "cell_type": "code",
   "execution_count": 64,
   "id": "43a4a48e",
   "metadata": {},
   "outputs": [],
   "source": [
    "# константы\n",
    "#  ядро для генератора случайных чисел\n",
    "my_seed = 8\n",
    "#  создаём псевдоним для короткого обращения к графикам\n",
    "plt = mpl.pyplot\n",
    "# настройка стиля и отображения графиков\n",
    "#  примеры стилей и шаблонов графиков: \n",
    "#  http://tonysyu.github.io/raw_content/matplotlib-style-gallery/gallery.html\n",
    "mpl.style.use('seaborn-whitegrid')\n",
    "sns.set_palette(\"Set2\")\n",
    "# раскомментируйте следующую строку, чтобы посмотреть палитру\n",
    "# sns.color_palette(\"Set2\")"
   ]
  },
  {
   "cell_type": "code",
   "execution_count": 65,
   "id": "29d97f61",
   "metadata": {},
   "outputs": [],
   "source": [
    "# функция, которая строит график сжатия коэффициентов в ридж и лассо\n",
    "#  из репозитория к книге С.Рашки Python и машинное обучение,\n",
    "#  слегка переработанная\n",
    "def plot_coeffs_traces (X, y, class_number, penalty_name, C_opt, col_names,\n",
    "                        C_min_pow=-4, C_max_pow=3.) :\n",
    "    fig = plt.figure()\n",
    "    ax = plt.subplot(111)    \n",
    "    \n",
    "    # палитра\n",
    "    colors = sns.color_palette(\"Spectral\", len(col_names)-1)\n",
    "    \n",
    "    weights, params = [], []\n",
    "    for c in np.arange(C_min_pow, C_max_pow+1):\n",
    "        lr = LogisticRegression(penalty=penalty_name, \n",
    "                                C=10.**c, solver='liblinear', \n",
    "                                multi_class='ovr', random_state=my_seed)\n",
    "        lr.fit(X, y)\n",
    "        weights.append(lr.coef_[class_number])\n",
    "        params.append(10**c)\n",
    "\n",
    "    weights = np.array(weights)\n",
    "\n",
    "    for column, color in zip(range(weights.shape[1]), colors):\n",
    "        plt.plot(params, weights[:, column],\n",
    "                 label=col_names[column],\n",
    "                 color=color)\n",
    "\n",
    "    # отсечки по оптимальным C\n",
    "    plt.axvline(x=C_opt[class_number], color='magenta', \n",
    "                linestyle='--', linewidth=1)\n",
    "\n",
    "    plt.axhline(0, color='black', linestyle='--', linewidth=1)\n",
    "    plt.xlim([10**(C_min_pow), 10**C_max_pow])\n",
    "    plt.ylabel('weight coefficient')\n",
    "    plt.xlabel('C')\n",
    "    plt.xscale('log')\n",
    "    plt.legend(loc='upper left')\n",
    "    ax.legend(loc='upper center', \n",
    "              bbox_to_anchor=(1.38, 1.03),\n",
    "              ncol=1, fancybox=True)\n",
    "    plt.show()"
   ]
  },
  {
   "cell_type": "markdown",
   "id": "87618f1b",
   "metadata": {},
   "source": [
    "## Загружаем данные\n",
    "\n",
    "Набор данных `winequality-white_for_lab`. Данные по качеству 4898 белых вин. Задача: спрогнозировать высокое / низкое качество вина. Источник данных: статья P. Cortez, A. Cerdeira, F. Almeida, T. Matos and J. Reis Modeling wine preferences by data mining from physicochemical properties. In Decision Support Systems, Elsevier, 47(4):547-553, 2009.. Набор данных был загружен из репозитория UCI (https://archive.ics.uci.edu/ml/datasets/wine+quality) 12.10.2021. Большинство столбцов таблицы отражают содержание в вине различных веществ:   \n",
    "\n",
    "* `fixed_acidity`– постоянная кислотность; \n",
    "* `volatile_acidity`– переменная кислотность;\n",
    "* `citric_acid`– содержание лимонной кислоты;\n",
    "* `chlorides`– содержание хлоридов;\n",
    "* `total_sulfur_dioxide`– общее содержание диоксида серы;\n",
    "* `density`– плотность;\n",
    "* `pH`– кислотность;\n",
    "* `sulphates`– содержание сульфатов;\n",
    "* `alcohol`– содержание алкоголя;\n",
    "* `Y`– целевая переменная: 1 = высокое качество (quality > 5), 0 = низкое (quality <= 5).\n",
    "\n",
    "Загружаем данные во фрейм и выясняем их размерность.  "
   ]
  },
  {
   "cell_type": "code",
   "execution_count": 67,
   "id": "a7e42f2c",
   "metadata": {},
   "outputs": [
    {
     "name": "stdout",
     "output_type": "stream",
     "text": [
      "Число строк и столбцов в наборе данных:\n",
      " (4898, 13)\n"
     ]
    }
   ],
   "source": [
    "# читаем таблицу из файла .csv во фрейм\n",
    "fileURL = 'https://raw.githubusercontent.com/aksyuk/MTML/main/Labs/data/winequality-white_for_lab.csv'\n",
    "DF_all = pd.read_csv(fileURL)\n",
    "\n",
    "# выясняем размерность фрейма\n",
    "print('Число строк и столбцов в наборе данных:\\n', DF_all.shape)"
   ]
  },
  {
   "cell_type": "markdown",
   "id": "5ce7ffd1",
   "metadata": {},
   "source": [
    "Отложим 15% наблюдений для прогноза.  "
   ]
  },
  {
   "cell_type": "code",
   "execution_count": 68,
   "id": "13f9300b",
   "metadata": {},
   "outputs": [],
   "source": [
    "# наблюдения для моделирования\n",
    "DF = DF_all.sample(frac=0.85, random_state=my_seed)\n",
    "# отложенные наблюдения\n",
    "DF_predict = DF_all.drop(DF.index)"
   ]
  },
  {
   "cell_type": "code",
   "execution_count": 70,
   "id": "2c2eedc8",
   "metadata": {
    "scrolled": true
   },
   "outputs": [
    {
     "data": {
      "text/html": [
       "<div>\n",
       "<style scoped>\n",
       "    .dataframe tbody tr th:only-of-type {\n",
       "        vertical-align: middle;\n",
       "    }\n",
       "\n",
       "    .dataframe tbody tr th {\n",
       "        vertical-align: top;\n",
       "    }\n",
       "\n",
       "    .dataframe thead th {\n",
       "        text-align: right;\n",
       "    }\n",
       "</style>\n",
       "<table border=\"1\" class=\"dataframe\">\n",
       "  <thead>\n",
       "    <tr style=\"text-align: right;\">\n",
       "      <th></th>\n",
       "      <th>fixed_acidity</th>\n",
       "      <th>volatile_acidity</th>\n",
       "      <th>citric_acid</th>\n",
       "      <th>residual_sugar</th>\n",
       "      <th>chlorides</th>\n",
       "      <th>free_sulfur_dioxide</th>\n",
       "    </tr>\n",
       "  </thead>\n",
       "  <tbody>\n",
       "    <tr>\n",
       "      <th>4245</th>\n",
       "      <td>7.6</td>\n",
       "      <td>0.35</td>\n",
       "      <td>0.47</td>\n",
       "      <td>13.3</td>\n",
       "      <td>0.037</td>\n",
       "      <td>42.0</td>\n",
       "    </tr>\n",
       "    <tr>\n",
       "      <th>945</th>\n",
       "      <td>6.7</td>\n",
       "      <td>0.15</td>\n",
       "      <td>0.29</td>\n",
       "      <td>5.0</td>\n",
       "      <td>0.058</td>\n",
       "      <td>28.0</td>\n",
       "    </tr>\n",
       "    <tr>\n",
       "      <th>394</th>\n",
       "      <td>6.8</td>\n",
       "      <td>0.37</td>\n",
       "      <td>0.51</td>\n",
       "      <td>11.8</td>\n",
       "      <td>0.044</td>\n",
       "      <td>62.0</td>\n",
       "    </tr>\n",
       "    <tr>\n",
       "      <th>3464</th>\n",
       "      <td>6.9</td>\n",
       "      <td>0.29</td>\n",
       "      <td>0.41</td>\n",
       "      <td>7.8</td>\n",
       "      <td>0.046</td>\n",
       "      <td>52.0</td>\n",
       "    </tr>\n",
       "    <tr>\n",
       "      <th>4261</th>\n",
       "      <td>6.0</td>\n",
       "      <td>0.31</td>\n",
       "      <td>0.27</td>\n",
       "      <td>2.3</td>\n",
       "      <td>0.042</td>\n",
       "      <td>19.0</td>\n",
       "    </tr>\n",
       "  </tbody>\n",
       "</table>\n",
       "</div>"
      ],
      "text/plain": [
       "      fixed_acidity  volatile_acidity  citric_acid  residual_sugar  chlorides  \\\n",
       "4245            7.6              0.35         0.47            13.3      0.037   \n",
       "945             6.7              0.15         0.29             5.0      0.058   \n",
       "394             6.8              0.37         0.51            11.8      0.044   \n",
       "3464            6.9              0.29         0.41             7.8      0.046   \n",
       "4261            6.0              0.31         0.27             2.3      0.042   \n",
       "\n",
       "      free_sulfur_dioxide  \n",
       "4245                 42.0  \n",
       "945                  28.0  \n",
       "394                  62.0  \n",
       "3464                 52.0  \n",
       "4261                 19.0  "
      ]
     },
     "execution_count": 70,
     "metadata": {},
     "output_type": "execute_result"
    }
   ],
   "source": [
    "# первые 5 строк фрейма у первых 6 столбцов\n",
    "DF.iloc[:, :6].head(5)"
   ]
  },
  {
   "cell_type": "code",
   "execution_count": 72,
   "id": "def9856e",
   "metadata": {},
   "outputs": [
    {
     "data": {
      "text/html": [
       "<div>\n",
       "<style scoped>\n",
       "    .dataframe tbody tr th:only-of-type {\n",
       "        vertical-align: middle;\n",
       "    }\n",
       "\n",
       "    .dataframe tbody tr th {\n",
       "        vertical-align: top;\n",
       "    }\n",
       "\n",
       "    .dataframe thead th {\n",
       "        text-align: right;\n",
       "    }\n",
       "</style>\n",
       "<table border=\"1\" class=\"dataframe\">\n",
       "  <thead>\n",
       "    <tr style=\"text-align: right;\">\n",
       "      <th></th>\n",
       "      <th>total_sulfur_dioxide</th>\n",
       "      <th>density</th>\n",
       "      <th>pH</th>\n",
       "      <th>sulphates</th>\n",
       "      <th>alcohol</th>\n",
       "      <th>quality</th>\n",
       "      <th>Y</th>\n",
       "    </tr>\n",
       "  </thead>\n",
       "  <tbody>\n",
       "    <tr>\n",
       "      <th>4245</th>\n",
       "      <td>116.0</td>\n",
       "      <td>0.99822</td>\n",
       "      <td>3.04</td>\n",
       "      <td>0.50</td>\n",
       "      <td>9.2</td>\n",
       "      <td>5</td>\n",
       "      <td>0</td>\n",
       "    </tr>\n",
       "    <tr>\n",
       "      <th>945</th>\n",
       "      <td>105.0</td>\n",
       "      <td>0.99460</td>\n",
       "      <td>3.52</td>\n",
       "      <td>0.44</td>\n",
       "      <td>10.2</td>\n",
       "      <td>7</td>\n",
       "      <td>1</td>\n",
       "    </tr>\n",
       "    <tr>\n",
       "      <th>394</th>\n",
       "      <td>163.0</td>\n",
       "      <td>0.99760</td>\n",
       "      <td>3.19</td>\n",
       "      <td>0.44</td>\n",
       "      <td>8.8</td>\n",
       "      <td>5</td>\n",
       "      <td>0</td>\n",
       "    </tr>\n",
       "    <tr>\n",
       "      <th>3464</th>\n",
       "      <td>171.0</td>\n",
       "      <td>0.99537</td>\n",
       "      <td>3.12</td>\n",
       "      <td>0.51</td>\n",
       "      <td>9.6</td>\n",
       "      <td>5</td>\n",
       "      <td>0</td>\n",
       "    </tr>\n",
       "    <tr>\n",
       "      <th>4261</th>\n",
       "      <td>120.0</td>\n",
       "      <td>0.98952</td>\n",
       "      <td>3.32</td>\n",
       "      <td>0.41</td>\n",
       "      <td>12.7</td>\n",
       "      <td>7</td>\n",
       "      <td>1</td>\n",
       "    </tr>\n",
       "  </tbody>\n",
       "</table>\n",
       "</div>"
      ],
      "text/plain": [
       "      total_sulfur_dioxide  density    pH  sulphates  alcohol  quality  Y\n",
       "4245                 116.0  0.99822  3.04       0.50      9.2        5  0\n",
       "945                  105.0  0.99460  3.52       0.44     10.2        7  1\n",
       "394                  163.0  0.99760  3.19       0.44      8.8        5  0\n",
       "3464                 171.0  0.99537  3.12       0.51      9.6        5  0\n",
       "4261                 120.0  0.98952  3.32       0.41     12.7        7  1"
      ]
     },
     "execution_count": 72,
     "metadata": {},
     "output_type": "execute_result"
    }
   ],
   "source": [
    "# первые 5 строк фрейма у столбцов 7-13\n",
    "DF.iloc[:, 6:13].head(5)"
   ]
  },
  {
   "cell_type": "code",
   "execution_count": 73,
   "id": "1e97a472",
   "metadata": {},
   "outputs": [
    {
     "data": {
      "text/plain": [
       "fixed_acidity           float64\n",
       "volatile_acidity        float64\n",
       "citric_acid             float64\n",
       "residual_sugar          float64\n",
       "chlorides               float64\n",
       "free_sulfur_dioxide     float64\n",
       "total_sulfur_dioxide    float64\n",
       "density                 float64\n",
       "pH                      float64\n",
       "sulphates               float64\n",
       "alcohol                 float64\n",
       "quality                   int64\n",
       "Y                         int64\n",
       "dtype: object"
      ]
     },
     "execution_count": 73,
     "metadata": {},
     "output_type": "execute_result"
    }
   ],
   "source": [
    "# типы столбцов фрейма\n",
    "DF.dtypes"
   ]
  },
  {
   "cell_type": "markdown",
   "id": "d4a540a2",
   "metadata": {},
   "source": [
    "Проверим, нет ли в таблице пропусков.  "
   ]
  },
  {
   "cell_type": "code",
   "execution_count": 74,
   "id": "42a96cd9",
   "metadata": {},
   "outputs": [
    {
     "data": {
      "text/plain": [
       "fixed_acidity           0\n",
       "volatile_acidity        0\n",
       "citric_acid             0\n",
       "residual_sugar          0\n",
       "chlorides               0\n",
       "free_sulfur_dioxide     0\n",
       "total_sulfur_dioxide    0\n",
       "density                 0\n",
       "pH                      0\n",
       "sulphates               0\n",
       "alcohol                 0\n",
       "quality                 0\n",
       "Y                       0\n",
       "dtype: int64"
      ]
     },
     "execution_count": 74,
     "metadata": {},
     "output_type": "execute_result"
    }
   ],
   "source": [
    "# считаем пропуски в каждом столбце\n",
    "DF.isna().sum()"
   ]
  },
  {
   "cell_type": "markdown",
   "id": "2941191c",
   "metadata": {},
   "source": [
    "Пропусков не обнаружено.  \n",
    "\n",
    "# Предварительный анализ данных  \n",
    "\n",
    "## Описательные статистики  \n",
    "\n",
    "Считаем доли классов целевой переменной `Y`.  "
   ]
  },
  {
   "cell_type": "code",
   "execution_count": 75,
   "id": "ad9c9120",
   "metadata": {},
   "outputs": [
    {
     "data": {
      "text/plain": [
       "array([0, 1], dtype=int64)"
      ]
     },
     "execution_count": 75,
     "metadata": {},
     "output_type": "execute_result"
    }
   ],
   "source": [
    "# метки классов\n",
    "DF.Y.unique()"
   ]
  },
  {
   "cell_type": "code",
   "execution_count": 76,
   "id": "1807f21e",
   "metadata": {},
   "outputs": [
    {
     "data": {
      "text/plain": [
       "1    0.664\n",
       "0    0.336\n",
       "Name: Y, dtype: float64"
      ]
     },
     "execution_count": 76,
     "metadata": {},
     "output_type": "execute_result"
    }
   ],
   "source": [
    "# доли классов\n",
    "np.around(DF.Y.value_counts() / len(DF.index), 3)"
   ]
  },
  {
   "cell_type": "markdown",
   "id": "e3216487",
   "metadata": {},
   "source": [
    "Все объясняющие переменные набора данных непрерывные. Рассчитаем для них описательные статистики.  "
   ]
  },
  {
   "cell_type": "code",
   "execution_count": 77,
   "id": "c7df0768",
   "metadata": {},
   "outputs": [
    {
     "data": {
      "text/html": [
       "<div>\n",
       "<style scoped>\n",
       "    .dataframe tbody tr th:only-of-type {\n",
       "        vertical-align: middle;\n",
       "    }\n",
       "\n",
       "    .dataframe tbody tr th {\n",
       "        vertical-align: top;\n",
       "    }\n",
       "\n",
       "    .dataframe thead th {\n",
       "        text-align: right;\n",
       "    }\n",
       "</style>\n",
       "<table border=\"1\" class=\"dataframe\">\n",
       "  <thead>\n",
       "    <tr style=\"text-align: right;\">\n",
       "      <th></th>\n",
       "      <th>fixed_acidity</th>\n",
       "      <th>volatile_acidity</th>\n",
       "      <th>citric_acid</th>\n",
       "    </tr>\n",
       "  </thead>\n",
       "  <tbody>\n",
       "    <tr>\n",
       "      <th>count</th>\n",
       "      <td>4163.000000</td>\n",
       "      <td>4163.000000</td>\n",
       "      <td>4163.000000</td>\n",
       "    </tr>\n",
       "    <tr>\n",
       "      <th>mean</th>\n",
       "      <td>6.853147</td>\n",
       "      <td>0.278675</td>\n",
       "      <td>0.333666</td>\n",
       "    </tr>\n",
       "    <tr>\n",
       "      <th>std</th>\n",
       "      <td>0.839406</td>\n",
       "      <td>0.101242</td>\n",
       "      <td>0.121310</td>\n",
       "    </tr>\n",
       "    <tr>\n",
       "      <th>min</th>\n",
       "      <td>3.800000</td>\n",
       "      <td>0.080000</td>\n",
       "      <td>0.000000</td>\n",
       "    </tr>\n",
       "    <tr>\n",
       "      <th>25%</th>\n",
       "      <td>6.300000</td>\n",
       "      <td>0.210000</td>\n",
       "      <td>0.270000</td>\n",
       "    </tr>\n",
       "    <tr>\n",
       "      <th>50%</th>\n",
       "      <td>6.800000</td>\n",
       "      <td>0.260000</td>\n",
       "      <td>0.320000</td>\n",
       "    </tr>\n",
       "    <tr>\n",
       "      <th>75%</th>\n",
       "      <td>7.300000</td>\n",
       "      <td>0.320000</td>\n",
       "      <td>0.390000</td>\n",
       "    </tr>\n",
       "    <tr>\n",
       "      <th>max</th>\n",
       "      <td>14.200000</td>\n",
       "      <td>1.100000</td>\n",
       "      <td>1.660000</td>\n",
       "    </tr>\n",
       "  </tbody>\n",
       "</table>\n",
       "</div>"
      ],
      "text/plain": [
       "       fixed_acidity  volatile_acidity  citric_acid\n",
       "count    4163.000000       4163.000000  4163.000000\n",
       "mean        6.853147          0.278675     0.333666\n",
       "std         0.839406          0.101242     0.121310\n",
       "min         3.800000          0.080000     0.000000\n",
       "25%         6.300000          0.210000     0.270000\n",
       "50%         6.800000          0.260000     0.320000\n",
       "75%         7.300000          0.320000     0.390000\n",
       "max        14.200000          1.100000     1.660000"
      ]
     },
     "execution_count": 77,
     "metadata": {},
     "output_type": "execute_result"
    }
   ],
   "source": [
    "# описательные статистики\n",
    "DF.iloc[:, :3].describe()"
   ]
  },
  {
   "cell_type": "code",
   "execution_count": 78,
   "id": "068ba2f9",
   "metadata": {},
   "outputs": [
    {
     "data": {
      "text/plain": [
       "count    4163.000000\n",
       "mean        0.046029\n",
       "std         0.022604\n",
       "min         0.009000\n",
       "25%         0.036000\n",
       "50%         0.043000\n",
       "75%         0.050000\n",
       "max         0.346000\n",
       "Name: chlorides, dtype: float64"
      ]
     },
     "execution_count": 78,
     "metadata": {},
     "output_type": "execute_result"
    }
   ],
   "source": [
    "# описательные статистики\n",
    "DF.iloc[:, 4].describe()"
   ]
  },
  {
   "cell_type": "code",
   "execution_count": 80,
   "id": "6d4d7774",
   "metadata": {},
   "outputs": [
    {
     "data": {
      "text/html": [
       "<div>\n",
       "<style scoped>\n",
       "    .dataframe tbody tr th:only-of-type {\n",
       "        vertical-align: middle;\n",
       "    }\n",
       "\n",
       "    .dataframe tbody tr th {\n",
       "        vertical-align: top;\n",
       "    }\n",
       "\n",
       "    .dataframe thead th {\n",
       "        text-align: right;\n",
       "    }\n",
       "</style>\n",
       "<table border=\"1\" class=\"dataframe\">\n",
       "  <thead>\n",
       "    <tr style=\"text-align: right;\">\n",
       "      <th></th>\n",
       "      <th>total_sulfur_dioxide</th>\n",
       "      <th>density</th>\n",
       "      <th>pH</th>\n",
       "      <th>sulphates</th>\n",
       "      <th>alcohol</th>\n",
       "    </tr>\n",
       "  </thead>\n",
       "  <tbody>\n",
       "    <tr>\n",
       "      <th>count</th>\n",
       "      <td>4163.000000</td>\n",
       "      <td>4163.000000</td>\n",
       "      <td>4163.000000</td>\n",
       "      <td>4163.000000</td>\n",
       "      <td>4163.000000</td>\n",
       "    </tr>\n",
       "    <tr>\n",
       "      <th>mean</th>\n",
       "      <td>138.093682</td>\n",
       "      <td>0.994018</td>\n",
       "      <td>3.187821</td>\n",
       "      <td>0.489181</td>\n",
       "      <td>10.519741</td>\n",
       "    </tr>\n",
       "    <tr>\n",
       "      <th>std</th>\n",
       "      <td>42.015077</td>\n",
       "      <td>0.003026</td>\n",
       "      <td>0.150405</td>\n",
       "      <td>0.114023</td>\n",
       "      <td>1.237346</td>\n",
       "    </tr>\n",
       "    <tr>\n",
       "      <th>min</th>\n",
       "      <td>9.000000</td>\n",
       "      <td>0.987110</td>\n",
       "      <td>2.720000</td>\n",
       "      <td>0.220000</td>\n",
       "      <td>8.000000</td>\n",
       "    </tr>\n",
       "    <tr>\n",
       "      <th>25%</th>\n",
       "      <td>108.000000</td>\n",
       "      <td>0.991700</td>\n",
       "      <td>3.090000</td>\n",
       "      <td>0.410000</td>\n",
       "      <td>9.500000</td>\n",
       "    </tr>\n",
       "    <tr>\n",
       "      <th>50%</th>\n",
       "      <td>134.000000</td>\n",
       "      <td>0.993700</td>\n",
       "      <td>3.180000</td>\n",
       "      <td>0.470000</td>\n",
       "      <td>10.400000</td>\n",
       "    </tr>\n",
       "    <tr>\n",
       "      <th>75%</th>\n",
       "      <td>167.000000</td>\n",
       "      <td>0.996135</td>\n",
       "      <td>3.280000</td>\n",
       "      <td>0.550000</td>\n",
       "      <td>11.400000</td>\n",
       "    </tr>\n",
       "    <tr>\n",
       "      <th>max</th>\n",
       "      <td>344.000000</td>\n",
       "      <td>1.038980</td>\n",
       "      <td>3.800000</td>\n",
       "      <td>1.080000</td>\n",
       "      <td>14.200000</td>\n",
       "    </tr>\n",
       "  </tbody>\n",
       "</table>\n",
       "</div>"
      ],
      "text/plain": [
       "       total_sulfur_dioxide      density           pH    sulphates  \\\n",
       "count           4163.000000  4163.000000  4163.000000  4163.000000   \n",
       "mean             138.093682     0.994018     3.187821     0.489181   \n",
       "std               42.015077     0.003026     0.150405     0.114023   \n",
       "min                9.000000     0.987110     2.720000     0.220000   \n",
       "25%              108.000000     0.991700     3.090000     0.410000   \n",
       "50%              134.000000     0.993700     3.180000     0.470000   \n",
       "75%              167.000000     0.996135     3.280000     0.550000   \n",
       "max              344.000000     1.038980     3.800000     1.080000   \n",
       "\n",
       "           alcohol  \n",
       "count  4163.000000  \n",
       "mean     10.519741  \n",
       "std       1.237346  \n",
       "min       8.000000  \n",
       "25%       9.500000  \n",
       "50%      10.400000  \n",
       "75%      11.400000  \n",
       "max      14.200000  "
      ]
     },
     "execution_count": 80,
     "metadata": {},
     "output_type": "execute_result"
    }
   ],
   "source": [
    "# описательные статистики\n",
    "DF.iloc[:, 6:11].describe()"
   ]
  },
  {
   "cell_type": "markdown",
   "id": "8fe7bbef",
   "metadata": {},
   "source": [
    "Выводы по описательным статистикам: значения объясняющих переменных положительные, масштабы измерения отличаются. Для работы с методами снижения размерности и регуляризации понадобится стандартизация значений.   \n",
    "\n",
    "## Визуализация разброса переменных внутри классов  \n",
    "\n",
    "Поскольку в наборе данных 9 объясняющих переменных, и все они непрерывные, анализ матричного графика разброса будет затруднительным. Построим коробчатые диаграммы для объясняющих переменных, чтобы сравнить средние уровни и разброс по классам.  "
   ]
  },
  {
   "cell_type": "code",
   "execution_count": 82,
   "id": "d4ee5069",
   "metadata": {},
   "outputs": [
    {
     "data": {
      "image/png": "[encoded data removed]",
      "text/plain": [
       "<Figure size 864x360 with 5 Axes>"
      ]
     },
     "metadata": {},
     "output_type": "display_data"
    }
   ],
   "source": [
    "# создаём полотно и делим его на четыре части\n",
    "fig = plt.figure(figsize=(12, 5))\n",
    "gs = mpl.gridspec.GridSpec(1, 5)\n",
    "ax1 = plt.subplot(gs[0, 0])\n",
    "ax2 = plt.subplot(gs[0, 1])\n",
    "ax3 = plt.subplot(gs[0, 2])\n",
    "ax4 = plt.subplot(gs[0, 3])\n",
    "ax5 = plt.subplot(gs[0, 4])\n",
    "\n",
    "axs = [ax1, ax2, ax3, ax4, ax5]\n",
    "\n",
    "cols_loop = list(DF.columns[:5].values)\n",
    "for col_name in cols_loop :\n",
    "    i = cols_loop.index(col_name)\n",
    "    sns.boxplot(x='Y', y=col_name, data=DF, ax=axs[i])\n",
    "    axs[i].set_ylabel(col_name)\n",
    "    axs[i].set_title(col_name)\n",
    "    \n",
    "# корректируем расположение графиков на полотне\n",
    "gs.tight_layout(plt.gcf())\n",
    "plt.show()"
   ]
  },
  {
   "cell_type": "code",
   "execution_count": 83,
   "id": "af48928a",
   "metadata": {},
   "outputs": [
    {
     "data": {
      "image/png": "[encoded data removed]",
      "text/plain": [
       "<Figure size 864x360 with 5 Axes>"
      ]
     },
     "metadata": {},
     "output_type": "display_data"
    }
   ],
   "source": [
    "# создаём полотно и делим его на четыре части\n",
    "fig = plt.figure(figsize=(12, 5))\n",
    "gs = mpl.gridspec.GridSpec(1, 5)\n",
    "ax1 = plt.subplot(gs[0, 0])\n",
    "ax2 = plt.subplot(gs[0, 1])\n",
    "ax3 = plt.subplot(gs[0, 2])\n",
    "ax4 = plt.subplot(gs[0, 3])\n",
    "ax5 = plt.subplot(gs[0, 4])\n",
    "\n",
    "axs = [ax1, ax2, ax3, ax4, ax5]\n",
    "\n",
    "cols_loop = list(DF.columns[6:11].values)\n",
    "for col_name in cols_loop :\n",
    "    i = cols_loop.index(col_name)\n",
    "    sns.boxplot(x='Y', y=col_name, data=DF, ax=axs[i])\n",
    "    axs[i].set_ylabel(col_name)\n",
    "    axs[i].set_title(col_name)\n",
    "    \n",
    "# корректируем расположение графиков на полотне\n",
    "gs.tight_layout(plt.gcf())\n",
    "plt.show()"
   ]
  },
  {
   "cell_type": "markdown",
   "id": "c4e9584f",
   "metadata": {},
   "source": [
    "На графиках отличие в медианах и разбросе между классами практически не прослеживается. Больше всего различаются коробчатые диаграммы по переменной `alcohol`. Меньше всего различаются коробчатые диаграммы по переменной `fixed_acidity`. Это говорит о том, классы по зависимой переменной `Y` достаточно плохо разделяются по всем объясняющим переменным."
   ]
  },
  {
   "cell_type": "markdown",
   "id": "bac7542b",
   "metadata": {},
   "source": [
    "## Корреляционный анализ   \n",
    "\n",
    "Теперь посмотрим на взаимодействие объясняющих переменных.  "
   ]
  },
  {
   "cell_type": "code",
   "execution_count": 84,
   "id": "11a7b0c4",
   "metadata": {},
   "outputs": [
    {
     "data": {
      "image/png": "[encoded data removed]",
      "text/plain": [
       "<Figure size 720x576 with 2 Axes>"
      ]
     },
     "metadata": {},
     "output_type": "display_data"
    }
   ],
   "source": [
    "# рассчитываем корреляционную матрицу\n",
    "corr_mat = DF.drop('Y', axis=1).corr()\n",
    "col_names = DF.drop('Y', axis=1).columns\n",
    "\n",
    "# переключаем стиль оформления, чтобы убрать сетку с тепловой карты\n",
    "mpl.style.use('seaborn-white')\n",
    "\n",
    "# рисуем корреляционную матрицу\n",
    "f = plt.figure(figsize=(10, 8))\n",
    "plt.matshow(corr_mat, fignum=f.number, cmap='PiYG')\n",
    "# координаты для названий строк и столбцов\n",
    "tics_coords = np.arange(0, len(col_names))\n",
    "# рисуем подписи\n",
    "plt.xticks(tics_coords, col_names, fontsize=14, rotation=90)\n",
    "plt.yticks(tics_coords, col_names, fontsize=14)\n",
    "# настраиваем легенду справа от тепловой карты\n",
    "cb = plt.colorbar()\n",
    "cb.ax.tick_params(labelsize=14)\n",
    "cb.ax.tick_params(labelsize=14)\n",
    "plt.show()"
   ]
  },
  {
   "cell_type": "markdown",
   "id": "b47250c6",
   "metadata": {},
   "source": [
    "Между объясняющими переменными обнаруживаются как прямые, так и обратные линейные взаимосвязи. Выведем все значимые коэффициенты в одной таблице и определим минимальный / максимальный из них.     "
   ]
  },
  {
   "cell_type": "code",
   "execution_count": 85,
   "id": "bf56e251",
   "metadata": {},
   "outputs": [
    {
     "data": {
      "text/html": [
       "<div>\n",
       "<style scoped>\n",
       "    .dataframe tbody tr th:only-of-type {\n",
       "        vertical-align: middle;\n",
       "    }\n",
       "\n",
       "    .dataframe tbody tr th {\n",
       "        vertical-align: top;\n",
       "    }\n",
       "\n",
       "    .dataframe thead th {\n",
       "        text-align: right;\n",
       "    }\n",
       "</style>\n",
       "<table border=\"1\" class=\"dataframe\">\n",
       "  <thead>\n",
       "    <tr style=\"text-align: right;\">\n",
       "      <th></th>\n",
       "      <th>Показатель_1</th>\n",
       "      <th>Показатель_2</th>\n",
       "      <th>Корреляция</th>\n",
       "      <th>P_значение</th>\n",
       "    </tr>\n",
       "  </thead>\n",
       "  <tbody>\n",
       "    <tr>\n",
       "      <th>58</th>\n",
       "      <td>density</td>\n",
       "      <td>alcohol</td>\n",
       "      <td>-0.779497</td>\n",
       "      <td>0.0</td>\n",
       "    </tr>\n",
       "    <tr>\n",
       "      <th>54</th>\n",
       "      <td>total_sulfur_dioxide</td>\n",
       "      <td>alcohol</td>\n",
       "      <td>-0.458623</td>\n",
       "      <td>0.0</td>\n",
       "    </tr>\n",
       "    <tr>\n",
       "      <th>36</th>\n",
       "      <td>residual_sugar</td>\n",
       "      <td>alcohol</td>\n",
       "      <td>-0.454846</td>\n",
       "      <td>0.0</td>\n",
       "    </tr>\n",
       "    <tr>\n",
       "      <th>7</th>\n",
       "      <td>fixed_acidity</td>\n",
       "      <td>pH</td>\n",
       "      <td>-0.425540</td>\n",
       "      <td>0.0</td>\n",
       "    </tr>\n",
       "    <tr>\n",
       "      <th>43</th>\n",
       "      <td>chlorides</td>\n",
       "      <td>alcohol</td>\n",
       "      <td>-0.359460</td>\n",
       "      <td>0.0</td>\n",
       "    </tr>\n",
       "    <tr>\n",
       "      <th>...</th>\n",
       "      <td>...</td>\n",
       "      <td>...</td>\n",
       "      <td>...</td>\n",
       "      <td>...</td>\n",
       "    </tr>\n",
       "    <tr>\n",
       "      <th>32</th>\n",
       "      <td>residual_sugar</td>\n",
       "      <td>total_sulfur_dioxide</td>\n",
       "      <td>0.408493</td>\n",
       "      <td>0.0</td>\n",
       "    </tr>\n",
       "    <tr>\n",
       "      <th>65</th>\n",
       "      <td>alcohol</td>\n",
       "      <td>quality</td>\n",
       "      <td>0.437095</td>\n",
       "      <td>0.0</td>\n",
       "    </tr>\n",
       "    <tr>\n",
       "      <th>51</th>\n",
       "      <td>total_sulfur_dioxide</td>\n",
       "      <td>density</td>\n",
       "      <td>0.533732</td>\n",
       "      <td>0.0</td>\n",
       "    </tr>\n",
       "    <tr>\n",
       "      <th>45</th>\n",
       "      <td>free_sulfur_dioxide</td>\n",
       "      <td>total_sulfur_dioxide</td>\n",
       "      <td>0.611553</td>\n",
       "      <td>0.0</td>\n",
       "    </tr>\n",
       "    <tr>\n",
       "      <th>33</th>\n",
       "      <td>residual_sugar</td>\n",
       "      <td>density</td>\n",
       "      <td>0.842400</td>\n",
       "      <td>0.0</td>\n",
       "    </tr>\n",
       "  </tbody>\n",
       "</table>\n",
       "<p>66 rows × 4 columns</p>\n",
       "</div>"
      ],
      "text/plain": [
       "            Показатель_1          Показатель_2  Корреляция  P_значение\n",
       "58               density               alcohol   -0.779497         0.0\n",
       "54  total_sulfur_dioxide               alcohol   -0.458623         0.0\n",
       "36        residual_sugar               alcohol   -0.454846         0.0\n",
       "7          fixed_acidity                    pH   -0.425540         0.0\n",
       "43             chlorides               alcohol   -0.359460         0.0\n",
       "..                   ...                   ...         ...         ...\n",
       "32        residual_sugar  total_sulfur_dioxide    0.408493         0.0\n",
       "65               alcohol               quality    0.437095         0.0\n",
       "51  total_sulfur_dioxide               density    0.533732         0.0\n",
       "45   free_sulfur_dioxide  total_sulfur_dioxide    0.611553         0.0\n",
       "33        residual_sugar               density    0.842400         0.0\n",
       "\n",
       "[66 rows x 4 columns]"
      ]
     },
     "execution_count": 85,
     "metadata": {},
     "output_type": "execute_result"
    }
   ],
   "source": [
    "# делаем фрейм из корреляционной матрицы и стираем диагональные значения\n",
    "#  и нижний треугольник матрицы\n",
    "df = corr_mat\n",
    "df = df.where(np.triu(np.ones(df.shape), k=1).astype(bool))\n",
    "# меняем размерность с матрицы на таблицу: показатель 1, показатель 2,\n",
    "#  корреляция\n",
    "df = df.stack().reset_index()\n",
    "df.columns = ['Показатель_1', 'Показатель_2', 'Корреляция']\n",
    "# считаем двусторонние p-значения для проверки значимости\n",
    "t_stat = np.sqrt((len(DF.index) - 2) / (1 - df.Корреляция ** 2))\n",
    "df['P_значение'] = 2 * (1 - t.cdf(abs(t_stat), len(DF.index) - 2))\n",
    "# получили все корреляционные коэффициенты без 1 и без повторов\n",
    "#  выводим все значимые с сортировкой\n",
    "df.loc[df['P_значение'] < 0.05].sort_values('Корреляция')"
   ]
  },
  {
   "cell_type": "markdown",
   "id": "d3a48810",
   "metadata": {},
   "source": [
    "# Методы снижения резмерности  \n",
    "\n",
    "Посмотрим, как работает частный метод наименьших квадратов (PLS)  \n",
    "\n",
    "Метод требует предварительной стандартизации переменных."
   ]
  },
  {
   "cell_type": "code",
   "execution_count": 86,
   "id": "688312d9",
   "metadata": {},
   "outputs": [
    {
     "name": "stdout",
     "output_type": "stream",
     "text": [
      "Столбец 0: среднее = 0.0   Станд. отклонение = 1.0\n",
      "Столбец 1: среднее = 0.0   Станд. отклонение = 1.0\n",
      "Столбец 2: среднее = 0.0   Станд. отклонение = 1.0\n",
      "Столбец 3: среднее = 0.0   Станд. отклонение = 1.0\n",
      "Столбец 4: среднее = -0.0   Станд. отклонение = 1.0\n",
      "Столбец 5: среднее = 0.0   Станд. отклонение = 1.0\n",
      "Столбец 6: среднее = -0.0   Станд. отклонение = 1.0\n",
      "Столбец 7: среднее = -0.0   Станд. отклонение = 1.0\n",
      "Столбец 8: среднее = 0.0   Станд. отклонение = 1.0\n",
      "Столбец 9: среднее = -0.0   Станд. отклонение = 1.0\n",
      "Столбец 10: среднее = 0.0   Станд. отклонение = 1.0\n",
      "Столбец 11: среднее = 0.0   Станд. отклонение = 1.0\n",
      "Столбец 12: среднее = -0.0   Станд. отклонение = 1.0\n"
     ]
    }
   ],
   "source": [
    "# стандартизация\n",
    "sc = StandardScaler()\n",
    "X_train_std = sc.fit_transform(DF.iloc[:, :13].values)\n",
    "\n",
    "# проверяем средние и стандартные отклонения после стандартизации\n",
    "for i_col in range(X_train_std.shape[1]) :\n",
    "    print('Столбец ', i_col, ': среднее = ',\n",
    "          np.round(np.mean(X_train_std[:, i_col]), 2),\n",
    "         '   Станд. отклонение = ', \n",
    "          np.round(np.std(X_train_std[:, i_col]), 2), sep='')"
   ]
  },
  {
   "cell_type": "markdown",
   "id": "8c555295",
   "metadata": {},
   "source": [
    "## Метод частных наименьших квадратов  \n",
    "\n",
    "Сначала посмотрим, как работает метод на всех наблюдениях обучающего набора.  "
   ]
  },
  {
   "cell_type": "code",
   "execution_count": 87,
   "id": "0f3b638f",
   "metadata": {},
   "outputs": [
    {
     "name": "stdout",
     "output_type": "stream",
     "text": [
      "Доли объяснённой дисперсии по компонентам в PLS:\n",
      " [0.196 0.159 0.049 0.036 0.074 0.053 0.055 0.04  0.029 0.032 0.014 0.011\n",
      " 0.072] \n",
      "Общая сумма долей: 0.822\n"
     ]
    }
   ],
   "source": [
    "# функция для оценки модели, берём все компоненты, по числу столбцов X\n",
    "pls = PLSRegression(n_components=13)\n",
    "# значения зависимой переменной превращаем в фиктивные по классам\n",
    "Y_train = pd.get_dummies(DF[['Y']].astype(str))\n",
    "# оцениваем\n",
    "pls.fit(X_train_std, Y_train)\n",
    "\n",
    "# считаем долю объяснённой дисперсии\n",
    "frac_var_expl = np.var(pls.x_scores_, axis=0) / np.sum(np.var(X_train_std, axis=0))\n",
    "print('Доли объяснённой дисперсии по компонентам в PLS:\\n',\n",
    "     np.around(frac_var_expl, 3),\n",
    "     '\\nОбщая сумма долей:', np.around(sum(frac_var_expl), 3))"
   ]
  },
  {
   "cell_type": "markdown",
   "id": "d5753d89",
   "metadata": {},
   "source": [
    "Из-за того, что при вычислении компонент метдом PLS мы учитываем корреляцию с $Y$, компоненты, во-первых, не ортогональны, а во-вторых сумма объяснённых долей дисперсии уже не равняется 1.  "
   ]
  },
  {
   "cell_type": "code",
   "execution_count": 88,
   "id": "f4e6c748",
   "metadata": {},
   "outputs": [
    {
     "data": {
      "text/html": [
       "<div>\n",
       "<style scoped>\n",
       "    .dataframe tbody tr th:only-of-type {\n",
       "        vertical-align: middle;\n",
       "    }\n",
       "\n",
       "    .dataframe tbody tr th {\n",
       "        vertical-align: top;\n",
       "    }\n",
       "\n",
       "    .dataframe thead th {\n",
       "        text-align: right;\n",
       "    }\n",
       "</style>\n",
       "<table border=\"1\" class=\"dataframe\">\n",
       "  <thead>\n",
       "    <tr style=\"text-align: right;\">\n",
       "      <th></th>\n",
       "      <th>0</th>\n",
       "      <th>1</th>\n",
       "    </tr>\n",
       "  </thead>\n",
       "  <tbody>\n",
       "    <tr>\n",
       "      <th>0</th>\n",
       "      <td>0.891805</td>\n",
       "      <td>0.108195</td>\n",
       "    </tr>\n",
       "    <tr>\n",
       "      <th>1</th>\n",
       "      <td>-0.089996</td>\n",
       "      <td>1.089996</td>\n",
       "    </tr>\n",
       "    <tr>\n",
       "      <th>2</th>\n",
       "      <td>0.889464</td>\n",
       "      <td>0.110536</td>\n",
       "    </tr>\n",
       "    <tr>\n",
       "      <th>3</th>\n",
       "      <td>0.873857</td>\n",
       "      <td>0.126143</td>\n",
       "    </tr>\n",
       "    <tr>\n",
       "      <th>4</th>\n",
       "      <td>-0.067119</td>\n",
       "      <td>1.067119</td>\n",
       "    </tr>\n",
       "    <tr>\n",
       "      <th>...</th>\n",
       "      <td>...</td>\n",
       "      <td>...</td>\n",
       "    </tr>\n",
       "    <tr>\n",
       "      <th>4158</th>\n",
       "      <td>0.130714</td>\n",
       "      <td>0.869286</td>\n",
       "    </tr>\n",
       "    <tr>\n",
       "      <th>4159</th>\n",
       "      <td>1.107521</td>\n",
       "      <td>-0.107521</td>\n",
       "    </tr>\n",
       "    <tr>\n",
       "      <th>4160</th>\n",
       "      <td>0.080978</td>\n",
       "      <td>0.919022</td>\n",
       "    </tr>\n",
       "    <tr>\n",
       "      <th>4161</th>\n",
       "      <td>0.847900</td>\n",
       "      <td>0.152100</td>\n",
       "    </tr>\n",
       "    <tr>\n",
       "      <th>4162</th>\n",
       "      <td>1.078456</td>\n",
       "      <td>-0.078456</td>\n",
       "    </tr>\n",
       "  </tbody>\n",
       "</table>\n",
       "<p>4163 rows × 2 columns</p>\n",
       "</div>"
      ],
      "text/plain": [
       "             0         1\n",
       "0     0.891805  0.108195\n",
       "1    -0.089996  1.089996\n",
       "2     0.889464  0.110536\n",
       "3     0.873857  0.126143\n",
       "4    -0.067119  1.067119\n",
       "...        ...       ...\n",
       "4158  0.130714  0.869286\n",
       "4159  1.107521 -0.107521\n",
       "4160  0.080978  0.919022\n",
       "4161  0.847900  0.152100\n",
       "4162  1.078456 -0.078456\n",
       "\n",
       "[4163 rows x 2 columns]"
      ]
     },
     "execution_count": 88,
     "metadata": {},
     "output_type": "execute_result"
    }
   ],
   "source": [
    "# сокращаем пространство компонент до 2\n",
    "pls = PLSRegression(n_components=2)\n",
    "# перестраиваем модель\n",
    "pls.fit(X_train_std, Y_train)\n",
    "# пересчитываем X\n",
    "X_train_pls = pls.transform(X_train_std)\n",
    "# предсказываем принадлежности классов для обучающего набора\n",
    "Y_train_pred = pls.predict(X_train_std)\n",
    "pd.DataFrame(Y_train_pred)"
   ]
  },
  {
   "cell_type": "code",
   "execution_count": 89,
   "id": "2ee36387",
   "metadata": {},
   "outputs": [
    {
     "data": {
      "text/plain": [
       "dict_items([(0, 1397), (1, 2766)])"
      ]
     },
     "execution_count": 89,
     "metadata": {},
     "output_type": "execute_result"
    }
   ],
   "source": [
    "# вычисляем классы\n",
    "Y_train_hat = list()\n",
    "for y_i in Y_train_pred : \n",
    "    Y_train_hat.append([i for i in range(len(y_i)) if y_i[i] == max(y_i)][0])\n",
    "# Y_train_hat\n",
    "# сколько наблюдений попали в каждый класс по модели\n",
    "Counter(Y_train_hat).items()"
   ]
  },
  {
   "cell_type": "markdown",
   "id": "3cd7c05e",
   "metadata": {},
   "source": [
    "Рисуем классы на графике в координатах 2 главных компонент по PLS.  "
   ]
  },
  {
   "cell_type": "code",
   "execution_count": 90,
   "id": "cf167983",
   "metadata": {},
   "outputs": [
    {
     "data": {
      "image/png": "[encoded data removed]",
      "text/plain": [
       "<Figure size 432x288 with 1 Axes>"
      ]
     },
     "metadata": {},
     "output_type": "display_data"
    }
   ],
   "source": [
    "# график классов в пространстве ГК\n",
    "plt.scatter(X_train_pls[DF['Y'] == 0][:, 0], \n",
    "            X_train_pls[DF['Y'] == 0][:, 1], label='Y: 0')\n",
    "plt.scatter(X_train_pls[DF['Y'] == 1][:, 0], \n",
    "            X_train_pls[DF['Y'] == 1][:, 1], label='Y: 1')\n",
    "\n",
    "plt.xlabel('ГК 1 по PLS')\n",
    "plt.ylabel('ГК 2 по PLS')\n",
    "plt.legend()\n",
    "plt.show()"
   ]
  },
  {
   "cell_type": "markdown",
   "id": "1360f1b8",
   "metadata": {},
   "source": [
    "Видно, что в координатах двух компонент, рассчитанных методом частных наименьших квадратов, классы оказываются хорошо разделимы.  \n",
    "Теперь оценим точность модели с перекрёстной проверкой.  "
   ]
  },
  {
   "cell_type": "code",
   "execution_count": 91,
   "id": "2a7f9f6f",
   "metadata": {},
   "outputs": [
    {
     "name": "stdout",
     "output_type": "stream",
     "text": [
      "Модель logit_PLS, перекрёстная проверка по 10 блокам\n",
      "Acc = 1.0\n"
     ]
    }
   ],
   "source": [
    "# функция разбиения на блоки для перекрёстной проверки\n",
    "#  для чистоты эксперимента возьмём другое ядро генератора случайных чисел\n",
    "kf_10 = KFold(n_splits=10, random_state=my_seed+1, shuffle=True)\n",
    "# считаем точность модели (Acc) с перекрёстной проверкой по блокам\n",
    "#  функция cross_val_score не сработает, т.к. у нас мультиклассовая\n",
    "#  классификация, поэтому делаем вручную\n",
    "# значения Y как метки классов\n",
    "Y_train = DF.Y.values\n",
    "# значения Y как фиктивные переменные\n",
    "Y_train_dummy = pd.get_dummies(Y_train.astype(str))\n",
    "# модель внутри блока\n",
    "pls_cv = PLSRegression(n_components=2)\n",
    "# для записи Acc по блокам\n",
    "acc_blocks = list()\n",
    "# цикл по блокам\n",
    "for train_index, test_index in kf_10.split(X_train_std, DF.Y.values) : \n",
    "    # данные для модели внутри блока\n",
    "    X_i_train = X_train_std[train_index]\n",
    "    Y_i_train = Y_train_dummy.iloc[train_index, :]\n",
    "\n",
    "    # данные для прогноза вне блока\n",
    "    X_i_test = X_train_std[test_index]\n",
    "    Y_i_test = Y_train[test_index]\n",
    "\n",
    "    # оцениваем модель на блоке\n",
    "    pls_cv.fit(X_i_train, Y_i_train)\n",
    "    # делаем прогноз y вне блока\n",
    "    Y_pred = pls.predict(X_i_test)\n",
    "    Y_hat = list()\n",
    "    for y_i in Y_pred : \n",
    "        Y_hat.append([i for i in range(len(y_i)) if y_i[i] == max(y_i)][0])\n",
    "    # считаем точность\n",
    "    acc = accuracy_score(Y_i_test, Y_hat)\n",
    "    acc_blocks.append(acc)\n",
    "\n",
    "score.append(np.around(np.mean(acc_blocks), 3))\n",
    "score_models.append('logit_PLS')\n",
    "print('Модель ', score_models[1], ', перекрёстная проверка по 10 блокам',\n",
    "      '\\nAcc = ', np.around(score[1], 2), sep='')"
   ]
  },
  {
   "cell_type": "markdown",
   "id": "5d46e811",
   "metadata": {},
   "source": [
    "# Методы сжатия   "
   ]
  },
  {
   "cell_type": "markdown",
   "id": "09a02626",
   "metadata": {},
   "source": [
    "## Лассо-регрессия\n",
    "\n",
    "Технически реализация лассо-регрессии отличается от ридж единственным аргументом `penalty='l1'` в функции `LogisticRegression`.    "
   ]
  },
  {
   "cell_type": "code",
   "execution_count": 48,
   "id": "bf20f8ec",
   "metadata": {},
   "outputs": [
    {
     "name": "stdout",
     "output_type": "stream",
     "text": [
      "Константы моделей для классов:\n",
      " [2.115] \n",
      "Коэффициенты моделей для классов:\n",
      " [[0.    0.    0.    0.    0.    0.    0.    0.    0.    0.    0.    0.\n",
      "  7.972]]\n"
     ]
    }
   ],
   "source": [
    "# функция для построения модели\n",
    "logit_lasso = LogisticRegression(penalty='l1', solver='liblinear')\n",
    "# оцениваем параметры\n",
    "logit_lasso.fit(X_train_std, Y_train)\n",
    "# выводим параметры\n",
    "print('Константы моделей для классов:\\n', np.around(logit_lasso.intercept_, 3),\n",
    "     '\\nКоэффициенты моделей для классов:\\n', np.around(logit_lasso.coef_, 3))"
   ]
  },
  {
   "cell_type": "markdown",
   "id": "3bd8cfb4",
   "metadata": {},
   "source": [
    "Отметим, что в векторе коэффициентов появились нулевые значения: метод лассо позволяет обнулять коэффициенты, тем самым отбрасывая слабые объясняющие переменные.  "
   ]
  },
  {
   "cell_type": "code",
   "execution_count": 56,
   "id": "92a80a3b",
   "metadata": {},
   "outputs": [
    {
     "data": {
      "text/plain": [
       "array([0.00077426])"
      ]
     },
     "execution_count": 56,
     "metadata": {},
     "output_type": "execute_result"
    }
   ],
   "source": [
    "# поиск оптимального значения C:\n",
    "#  подбираем C по наибольшей точности с перекрёстной проверкой\n",
    "lasso_cv = LogisticRegressionCV(cv=10, random_state=my_seed+3,\n",
    "                               penalty='l1', solver='liblinear')\n",
    "lasso_cv.fit(X_train_std, Y_train)\n",
    "# значения параметра C (инверсия лямбды), которые дают наилучшую\n",
    "#  точность для каждого класса\n",
    "lasso_cv.C_"
   ]
  },
  {
   "cell_type": "code",
   "execution_count": 57,
   "id": "6ae71683",
   "metadata": {},
   "outputs": [
    {
     "name": "stdout",
     "output_type": "stream",
     "text": [
      "Модель logit_lasso, перекрёстная проверка по 10 блокам\n",
      "Acc = 1.0\n"
     ]
    }
   ],
   "source": [
    "# сохраняем и выводим Acc для модели\n",
    "score.append(np.around(lasso_cv.score(X_train_std, Y_train), 3))\n",
    "score_models.append('logit_lasso')\n",
    "print('Модель ', score_models[3], ', перекрёстная проверка по 10 блокам',\n",
    "      '\\nAcc = ', score[3], sep='')"
   ]
  },
  {
   "cell_type": "code",
   "execution_count": 58,
   "id": "c15ed701",
   "metadata": {},
   "outputs": [
    {
     "data": {
      "image/png": "[encoded data removed]",
      "text/plain": [
       "<Figure size 432x288 with 1 Axes>"
      ]
     },
     "metadata": {},
     "output_type": "display_data"
    }
   ],
   "source": [
    "# график динамики коэффициентов в лассо-регрессии    \n",
    "#  модель для класса 0\n",
    "plot_coeffs_traces(X_train_std, Y_train, 0, 'l1', lasso_cv.C_, DF.columns)"
   ]
  },
  {
   "cell_type": "code",
   "execution_count": 54,
   "id": "f16638c9",
   "metadata": {},
   "outputs": [
    {
     "ename": "IndexError",
     "evalue": "index 1 is out of bounds for axis 0 with size 1",
     "output_type": "error",
     "traceback": [
      "\u001b[1;31m---------------------------------------------------------------------------\u001b[0m",
      "\u001b[1;31mIndexError\u001b[0m                                Traceback (most recent call last)",
      "\u001b[1;32m<ipython-input-54-e9105472e016>\u001b[0m in \u001b[0;36m<module>\u001b[1;34m\u001b[0m\n\u001b[0;32m      1\u001b[0m \u001b[1;31m# график динамики коэффициентов в лассо-регрессии\u001b[0m\u001b[1;33m\u001b[0m\u001b[1;33m\u001b[0m\u001b[1;33m\u001b[0m\u001b[0m\n\u001b[0;32m      2\u001b[0m \u001b[1;31m#  модель для класса 1\u001b[0m\u001b[1;33m\u001b[0m\u001b[1;33m\u001b[0m\u001b[1;33m\u001b[0m\u001b[0m\n\u001b[1;32m----> 3\u001b[1;33m \u001b[0mplot_coeffs_traces\u001b[0m\u001b[1;33m(\u001b[0m\u001b[0mX_train_std\u001b[0m\u001b[1;33m,\u001b[0m \u001b[0mY_train\u001b[0m\u001b[1;33m,\u001b[0m \u001b[1;36m1\u001b[0m\u001b[1;33m,\u001b[0m \u001b[1;34m'l1'\u001b[0m\u001b[1;33m,\u001b[0m \u001b[0mlasso_cv\u001b[0m\u001b[1;33m.\u001b[0m\u001b[0mC_\u001b[0m\u001b[1;33m,\u001b[0m \u001b[0mDF\u001b[0m\u001b[1;33m.\u001b[0m\u001b[0mcolumns\u001b[0m\u001b[1;33m)\u001b[0m\u001b[1;33m\u001b[0m\u001b[1;33m\u001b[0m\u001b[0m\n\u001b[0m",
      "\u001b[1;32m<ipython-input-4-8536a14d10e1>\u001b[0m in \u001b[0;36mplot_coeffs_traces\u001b[1;34m(X, y, class_number, penalty_name, C_opt, col_names, C_min_pow, C_max_pow)\u001b[0m\n\u001b[0;32m     16\u001b[0m                                 multi_class='ovr', random_state=my_seed)\n\u001b[0;32m     17\u001b[0m         \u001b[0mlr\u001b[0m\u001b[1;33m.\u001b[0m\u001b[0mfit\u001b[0m\u001b[1;33m(\u001b[0m\u001b[0mX\u001b[0m\u001b[1;33m,\u001b[0m \u001b[0my\u001b[0m\u001b[1;33m)\u001b[0m\u001b[1;33m\u001b[0m\u001b[1;33m\u001b[0m\u001b[0m\n\u001b[1;32m---> 18\u001b[1;33m         \u001b[0mweights\u001b[0m\u001b[1;33m.\u001b[0m\u001b[0mappend\u001b[0m\u001b[1;33m(\u001b[0m\u001b[0mlr\u001b[0m\u001b[1;33m.\u001b[0m\u001b[0mcoef_\u001b[0m\u001b[1;33m[\u001b[0m\u001b[0mclass_number\u001b[0m\u001b[1;33m]\u001b[0m\u001b[1;33m)\u001b[0m\u001b[1;33m\u001b[0m\u001b[1;33m\u001b[0m\u001b[0m\n\u001b[0m\u001b[0;32m     19\u001b[0m         \u001b[0mparams\u001b[0m\u001b[1;33m.\u001b[0m\u001b[0mappend\u001b[0m\u001b[1;33m(\u001b[0m\u001b[1;36m10\u001b[0m\u001b[1;33m**\u001b[0m\u001b[0mc\u001b[0m\u001b[1;33m)\u001b[0m\u001b[1;33m\u001b[0m\u001b[1;33m\u001b[0m\u001b[0m\n\u001b[0;32m     20\u001b[0m \u001b[1;33m\u001b[0m\u001b[0m\n",
      "\u001b[1;31mIndexError\u001b[0m: index 1 is out of bounds for axis 0 with size 1"
     ]
    },
    {
     "data": {
      "image/png": "[encoded data removed]",
      "text/plain": [
       "<Figure size 432x288 with 1 Axes>"
      ]
     },
     "metadata": {},
     "output_type": "display_data"
    }
   ],
   "source": [
    "# график динамики коэффициентов в лассо-регрессии    \n",
    "#  модель для класса 1\n",
    "plot_coeffs_traces(X_train_std, Y_train, 1, 'l1', lasso_cv.C_, DF.columns)"
   ]
  },
  {
   "cell_type": "markdown",
   "id": "041010d5",
   "metadata": {},
   "source": [
    "Итак, судя по графикам, для значения гиперпараметра, дающего самую точную модель, ни один коэффициент при объясняющих переменных не обнуляется. Это подтверждает наблюдение, сделанное нами ещё на этапе предварительного анализа: все объясняющие переменные неплохо разделяют классы.   \n",
    "\n",
    "\n",
    "# Прогноз на отложенные наблюдения по лучшей модели\n",
    "\n",
    "Ещё раз посмотрим на точность построенных моделей.  "
   ]
  },
  {
   "cell_type": "code",
   "execution_count": 59,
   "id": "13f506f8",
   "metadata": {},
   "outputs": [
    {
     "ename": "ValueError",
     "evalue": "arrays must all be same length",
     "output_type": "error",
     "traceback": [
      "\u001b[1;31m---------------------------------------------------------------------------\u001b[0m",
      "\u001b[1;31mValueError\u001b[0m                                Traceback (most recent call last)",
      "\u001b[1;32m<ipython-input-59-a259abc1b725>\u001b[0m in \u001b[0;36m<module>\u001b[1;34m\u001b[0m\n\u001b[0;32m      1\u001b[0m \u001b[1;31m# сводка по точности моделей\u001b[0m\u001b[1;33m\u001b[0m\u001b[1;33m\u001b[0m\u001b[1;33m\u001b[0m\u001b[0m\n\u001b[1;32m----> 2\u001b[1;33m \u001b[0mpd\u001b[0m\u001b[1;33m.\u001b[0m\u001b[0mDataFrame\u001b[0m\u001b[1;33m(\u001b[0m\u001b[1;33m{\u001b[0m\u001b[1;34m'Модель'\u001b[0m \u001b[1;33m:\u001b[0m \u001b[0mscore_models\u001b[0m\u001b[1;33m,\u001b[0m \u001b[1;34m'Acc'\u001b[0m \u001b[1;33m:\u001b[0m \u001b[0mscore\u001b[0m\u001b[1;33m}\u001b[0m\u001b[1;33m)\u001b[0m\u001b[1;33m\u001b[0m\u001b[1;33m\u001b[0m\u001b[0m\n\u001b[0m",
      "\u001b[1;32m~\\anaconda3\\lib\\site-packages\\pandas\\core\\frame.py\u001b[0m in \u001b[0;36m__init__\u001b[1;34m(self, data, index, columns, dtype, copy)\u001b[0m\n\u001b[0;32m    527\u001b[0m \u001b[1;33m\u001b[0m\u001b[0m\n\u001b[0;32m    528\u001b[0m         \u001b[1;32melif\u001b[0m \u001b[0misinstance\u001b[0m\u001b[1;33m(\u001b[0m\u001b[0mdata\u001b[0m\u001b[1;33m,\u001b[0m \u001b[0mdict\u001b[0m\u001b[1;33m)\u001b[0m\u001b[1;33m:\u001b[0m\u001b[1;33m\u001b[0m\u001b[1;33m\u001b[0m\u001b[0m\n\u001b[1;32m--> 529\u001b[1;33m             \u001b[0mmgr\u001b[0m \u001b[1;33m=\u001b[0m \u001b[0minit_dict\u001b[0m\u001b[1;33m(\u001b[0m\u001b[0mdata\u001b[0m\u001b[1;33m,\u001b[0m \u001b[0mindex\u001b[0m\u001b[1;33m,\u001b[0m \u001b[0mcolumns\u001b[0m\u001b[1;33m,\u001b[0m \u001b[0mdtype\u001b[0m\u001b[1;33m=\u001b[0m\u001b[0mdtype\u001b[0m\u001b[1;33m)\u001b[0m\u001b[1;33m\u001b[0m\u001b[1;33m\u001b[0m\u001b[0m\n\u001b[0m\u001b[0;32m    530\u001b[0m         \u001b[1;32melif\u001b[0m \u001b[0misinstance\u001b[0m\u001b[1;33m(\u001b[0m\u001b[0mdata\u001b[0m\u001b[1;33m,\u001b[0m \u001b[0mma\u001b[0m\u001b[1;33m.\u001b[0m\u001b[0mMaskedArray\u001b[0m\u001b[1;33m)\u001b[0m\u001b[1;33m:\u001b[0m\u001b[1;33m\u001b[0m\u001b[1;33m\u001b[0m\u001b[0m\n\u001b[0;32m    531\u001b[0m             \u001b[1;32mimport\u001b[0m \u001b[0mnumpy\u001b[0m\u001b[1;33m.\u001b[0m\u001b[0mma\u001b[0m\u001b[1;33m.\u001b[0m\u001b[0mmrecords\u001b[0m \u001b[1;32mas\u001b[0m \u001b[0mmrecords\u001b[0m\u001b[1;33m\u001b[0m\u001b[1;33m\u001b[0m\u001b[0m\n",
      "\u001b[1;32m~\\anaconda3\\lib\\site-packages\\pandas\\core\\internals\\construction.py\u001b[0m in \u001b[0;36minit_dict\u001b[1;34m(data, index, columns, dtype)\u001b[0m\n\u001b[0;32m    285\u001b[0m             \u001b[0marr\u001b[0m \u001b[1;32mif\u001b[0m \u001b[1;32mnot\u001b[0m \u001b[0mis_datetime64tz_dtype\u001b[0m\u001b[1;33m(\u001b[0m\u001b[0marr\u001b[0m\u001b[1;33m)\u001b[0m \u001b[1;32melse\u001b[0m \u001b[0marr\u001b[0m\u001b[1;33m.\u001b[0m\u001b[0mcopy\u001b[0m\u001b[1;33m(\u001b[0m\u001b[1;33m)\u001b[0m \u001b[1;32mfor\u001b[0m \u001b[0marr\u001b[0m \u001b[1;32min\u001b[0m \u001b[0marrays\u001b[0m\u001b[1;33m\u001b[0m\u001b[1;33m\u001b[0m\u001b[0m\n\u001b[0;32m    286\u001b[0m         ]\n\u001b[1;32m--> 287\u001b[1;33m     \u001b[1;32mreturn\u001b[0m \u001b[0marrays_to_mgr\u001b[0m\u001b[1;33m(\u001b[0m\u001b[0marrays\u001b[0m\u001b[1;33m,\u001b[0m \u001b[0mdata_names\u001b[0m\u001b[1;33m,\u001b[0m \u001b[0mindex\u001b[0m\u001b[1;33m,\u001b[0m \u001b[0mcolumns\u001b[0m\u001b[1;33m,\u001b[0m \u001b[0mdtype\u001b[0m\u001b[1;33m=\u001b[0m\u001b[0mdtype\u001b[0m\u001b[1;33m)\u001b[0m\u001b[1;33m\u001b[0m\u001b[1;33m\u001b[0m\u001b[0m\n\u001b[0m\u001b[0;32m    288\u001b[0m \u001b[1;33m\u001b[0m\u001b[0m\n\u001b[0;32m    289\u001b[0m \u001b[1;33m\u001b[0m\u001b[0m\n",
      "\u001b[1;32m~\\anaconda3\\lib\\site-packages\\pandas\\core\\internals\\construction.py\u001b[0m in \u001b[0;36marrays_to_mgr\u001b[1;34m(arrays, arr_names, index, columns, dtype, verify_integrity)\u001b[0m\n\u001b[0;32m     78\u001b[0m         \u001b[1;31m# figure out the index, if necessary\u001b[0m\u001b[1;33m\u001b[0m\u001b[1;33m\u001b[0m\u001b[1;33m\u001b[0m\u001b[0m\n\u001b[0;32m     79\u001b[0m         \u001b[1;32mif\u001b[0m \u001b[0mindex\u001b[0m \u001b[1;32mis\u001b[0m \u001b[1;32mNone\u001b[0m\u001b[1;33m:\u001b[0m\u001b[1;33m\u001b[0m\u001b[1;33m\u001b[0m\u001b[0m\n\u001b[1;32m---> 80\u001b[1;33m             \u001b[0mindex\u001b[0m \u001b[1;33m=\u001b[0m \u001b[0mextract_index\u001b[0m\u001b[1;33m(\u001b[0m\u001b[0marrays\u001b[0m\u001b[1;33m)\u001b[0m\u001b[1;33m\u001b[0m\u001b[1;33m\u001b[0m\u001b[0m\n\u001b[0m\u001b[0;32m     81\u001b[0m         \u001b[1;32melse\u001b[0m\u001b[1;33m:\u001b[0m\u001b[1;33m\u001b[0m\u001b[1;33m\u001b[0m\u001b[0m\n\u001b[0;32m     82\u001b[0m             \u001b[0mindex\u001b[0m \u001b[1;33m=\u001b[0m \u001b[0mensure_index\u001b[0m\u001b[1;33m(\u001b[0m\u001b[0mindex\u001b[0m\u001b[1;33m)\u001b[0m\u001b[1;33m\u001b[0m\u001b[1;33m\u001b[0m\u001b[0m\n",
      "\u001b[1;32m~\\anaconda3\\lib\\site-packages\\pandas\\core\\internals\\construction.py\u001b[0m in \u001b[0;36mextract_index\u001b[1;34m(data)\u001b[0m\n\u001b[0;32m    399\u001b[0m             \u001b[0mlengths\u001b[0m \u001b[1;33m=\u001b[0m \u001b[0mlist\u001b[0m\u001b[1;33m(\u001b[0m\u001b[0mset\u001b[0m\u001b[1;33m(\u001b[0m\u001b[0mraw_lengths\u001b[0m\u001b[1;33m)\u001b[0m\u001b[1;33m)\u001b[0m\u001b[1;33m\u001b[0m\u001b[1;33m\u001b[0m\u001b[0m\n\u001b[0;32m    400\u001b[0m             \u001b[1;32mif\u001b[0m \u001b[0mlen\u001b[0m\u001b[1;33m(\u001b[0m\u001b[0mlengths\u001b[0m\u001b[1;33m)\u001b[0m \u001b[1;33m>\u001b[0m \u001b[1;36m1\u001b[0m\u001b[1;33m:\u001b[0m\u001b[1;33m\u001b[0m\u001b[1;33m\u001b[0m\u001b[0m\n\u001b[1;32m--> 401\u001b[1;33m                 \u001b[1;32mraise\u001b[0m \u001b[0mValueError\u001b[0m\u001b[1;33m(\u001b[0m\u001b[1;34m\"arrays must all be same length\"\u001b[0m\u001b[1;33m)\u001b[0m\u001b[1;33m\u001b[0m\u001b[1;33m\u001b[0m\u001b[0m\n\u001b[0m\u001b[0;32m    402\u001b[0m \u001b[1;33m\u001b[0m\u001b[0m\n\u001b[0;32m    403\u001b[0m             \u001b[1;32mif\u001b[0m \u001b[0mhave_dicts\u001b[0m\u001b[1;33m:\u001b[0m\u001b[1;33m\u001b[0m\u001b[1;33m\u001b[0m\u001b[0m\n",
      "\u001b[1;31mValueError\u001b[0m: arrays must all be same length"
     ]
    }
   ],
   "source": [
    "# сводка по точности моделей\n",
    "pd.DataFrame({'Модель' : score_models, 'Acc' : score})"
   ]
  },
  {
   "cell_type": "markdown",
   "id": "99c7c905",
   "metadata": {},
   "source": [
    "Все модели показывают высокую точность по показателю $Acc$, при этом самой точной оказывается ридж-регрессия. Сделаем прогноз на отложенные наблюдения.   "
   ]
  },
  {
   "cell_type": "code",
   "execution_count": 62,
   "id": "6f19fd52",
   "metadata": {},
   "outputs": [
    {
     "ename": "NameError",
     "evalue": "name 'logit_ridge' is not defined",
     "output_type": "error",
     "traceback": [
      "\u001b[1;31m---------------------------------------------------------------------------\u001b[0m",
      "\u001b[1;31mNameError\u001b[0m                                 Traceback (most recent call last)",
      "\u001b[1;32m<ipython-input-62-169e26a4417f>\u001b[0m in \u001b[0;36m<module>\u001b[1;34m\u001b[0m\n\u001b[0;32m      2\u001b[0m \u001b[0mX_pred_std\u001b[0m \u001b[1;33m=\u001b[0m \u001b[0msc\u001b[0m\u001b[1;33m.\u001b[0m\u001b[0mfit_transform\u001b[0m\u001b[1;33m(\u001b[0m\u001b[0mDF_predict\u001b[0m\u001b[1;33m.\u001b[0m\u001b[0miloc\u001b[0m\u001b[1;33m[\u001b[0m\u001b[1;33m:\u001b[0m\u001b[1;33m,\u001b[0m \u001b[1;33m:\u001b[0m\u001b[1;36m13\u001b[0m\u001b[1;33m]\u001b[0m\u001b[1;33m.\u001b[0m\u001b[0mvalues\u001b[0m\u001b[1;33m)\u001b[0m\u001b[1;33m\u001b[0m\u001b[1;33m\u001b[0m\u001b[0m\n\u001b[0;32m      3\u001b[0m \u001b[0mY_pred\u001b[0m \u001b[1;33m=\u001b[0m \u001b[0mDF_predict\u001b[0m\u001b[1;33m.\u001b[0m\u001b[0mY\u001b[0m\u001b[1;33m\u001b[0m\u001b[1;33m\u001b[0m\u001b[0m\n\u001b[1;32m----> 4\u001b[1;33m \u001b[0mY_hat\u001b[0m \u001b[1;33m=\u001b[0m \u001b[0mlogit_ridge\u001b[0m\u001b[1;33m.\u001b[0m\u001b[0mpredict\u001b[0m\u001b[1;33m(\u001b[0m\u001b[0mX_pred_std\u001b[0m\u001b[1;33m)\u001b[0m\u001b[1;33m\u001b[0m\u001b[1;33m\u001b[0m\u001b[0m\n\u001b[0m\u001b[0;32m      5\u001b[0m \u001b[1;31m# отчёт по точности на отложенных наблюдениях\u001b[0m\u001b[1;33m\u001b[0m\u001b[1;33m\u001b[0m\u001b[1;33m\u001b[0m\u001b[0m\n\u001b[0;32m      6\u001b[0m \u001b[0mprint\u001b[0m\u001b[1;33m(\u001b[0m\u001b[0mclassification_report\u001b[0m\u001b[1;33m(\u001b[0m\u001b[0mY_pred\u001b[0m\u001b[1;33m,\u001b[0m \u001b[0mY_hat\u001b[0m\u001b[1;33m)\u001b[0m\u001b[1;33m)\u001b[0m\u001b[1;33m\u001b[0m\u001b[1;33m\u001b[0m\u001b[0m\n",
      "\u001b[1;31mNameError\u001b[0m: name 'logit_ridge' is not defined"
     ]
    }
   ],
   "source": [
    "# формируем объекты с данными отложенной выборки\n",
    "X_pred_std = sc.fit_transform(DF_predict.iloc[:, :13].values)\n",
    "Y_pred = DF_predict.Y\n",
    "Y_hat = logit_ridge.predict(X_pred_std)\n",
    "# отчёт по точности на отложенных наблюдениях\n",
    "print(classification_report(Y_pred, Y_hat))"
   ]
  },
  {
   "cell_type": "markdown",
   "id": "15e4aa0a",
   "metadata": {},
   "source": [
    "Итак, методом логистической регрессии со сжатием коэффициенты с L2-регуляризацией мы получили идеально точную модель классификации трёх видов красных вин.  "
   ]
  }
 ],
 "metadata": {
  "kernelspec": {
   "display_name": "Python 3",
   "language": "python",
   "name": "python3"
  },
  "language_info": {
   "codemirror_mode": {
    "name": "ipython",
    "version": 3
   },
   "file_extension": ".py",
   "mimetype": "text/x-python",
   "name": "python",
   "nbconvert_exporter": "python",
   "pygments_lexer": "ipython3",
   "version": "3.8.8"
  }
 },
 "nbformat": 4,
 "nbformat_minor": 5
}
