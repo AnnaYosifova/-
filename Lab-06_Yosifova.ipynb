{
 "cells": [
  {
   "cell_type": "markdown",
   "id": "2562009a",
   "metadata": {},
   "source": [
    "`Дисциплина: Методы и технологии машинного обучения`   \n",
    "`Уровень подготовки: бакалавриат`   \n",
    "`Направление подготовки: 01.03.02 Прикладная математика и информатика`   \n",
    "`Семестр: осень 2021/2022`"
   ]
  },
  {
   "cell_type": "code",
   "execution_count": 1,
   "id": "6627f934",
   "metadata": {},
   "outputs": [
    {
     "data": {
      "text/html": [
       "<style>.container { width:80% !important; }</style>"
      ],
      "text/plain": [
       "<IPython.core.display.HTML object>"
      ]
     },
     "metadata": {},
     "output_type": "display_data"
    }
   ],
   "source": [
    "# настройка ширины страницы блокнота .......................................\n",
    "from IPython.core.display import display, HTML\n",
    "display(HTML(\"<style>.container { width:80% !important; }</style>\"))\n",
    "# расширение watermark для вывода информации о версиях пакетов\n",
    "# https://github.com/rasbt/watermark\n",
    "%load_ext watermark"
   ]
  },
  {
   "cell_type": "markdown",
   "id": "0d688945",
   "metadata": {},
   "source": [
    "# Лабораторная работа №6: Машины опорных векторов\n",
    "В практических примерах ниже показано:   \n",
    "\n",
    "* как классифицировать данные с помощью модели SVM;  \n",
    "* как использовать конвейеры для подгонки модели и применения её к новым данным;  \n",
    "\n",
    "Точность всех моделей оценивается методом перекрёстной проверки по 5 блокам.\n",
    "\n",
    "Данные: `winequality-white_for_lab` (источник: <https://github.com/aksyuk/MTML/blob/main/Labs/data/winequality-white_for_lab.csv>)\n",
    "\n",
    "Список столбцов:\n",
    "\n",
    "* `fixed_acidity` – постоянная кислотность;\n",
    "\n",
    "* `volatile_acidity` – переменная кислотность;\n",
    "\n",
    "* `citric_acid` – содержание лимонной кислоты;\n",
    "\n",
    "* `residual_sugar` – остаточный сахар;\n",
    "\n",
    "* `chlorides` – содержание хлоридов;\n",
    "\n",
    "* `free_sulfur_dioxide` – содержание диоксида серы в свободном виде;\n",
    "\n",
    "* `total_sulfur_dioxide` – общее содержание диоксида серы;\n",
    "density – плотность;\n",
    "\n",
    "* `pH` – кислотность;\n",
    "\n",
    "* `sulphates` – содержание сульфатов;\n",
    "\n",
    "* `alcohol` – содержание алкоголя;\n",
    "\n",
    "* `quality` – балльная оценка качества вина, от 0 до 10;\n",
    "\n",
    "* `Y` – целевая переменная: 1 = высокое качество (quality > 5), 0 = низкое (quality <= 5)."
   ]
  },
  {
   "cell_type": "markdown",
   "id": "0e6cf25f",
   "metadata": {},
   "source": [
    "# Указания к выполнению"
   ]
  },
  {
   "cell_type": "markdown",
   "id": "170c571f",
   "metadata": {},
   "source": [
    "## Загружаем пакеты"
   ]
  },
  {
   "cell_type": "code",
   "execution_count": 2,
   "id": "835cfc75",
   "metadata": {},
   "outputs": [],
   "source": [
    "# загрузка пакетов: инструменты --------------------------------------------\n",
    "# работа с массивами\n",
    "import numpy as np\n",
    "# фреймы данных\n",
    "import pandas as pd\n",
    "# графики\n",
    "import matplotlib as mpl\n",
    "# стили и шаблоны графиков на основе matplotlib\n",
    "import seaborn as sns\n",
    "# перекодировка символьных показателей\n",
    "from sklearn.preprocessing import LabelEncoder\n",
    "# для таймера\n",
    "import time\n",
    "# загрузка пакетов: модели -------------------------------------------------\n",
    "# SVM\n",
    "from sklearn.svm import SVC\n",
    "# логистическая рагрессия\n",
    "from sklearn.linear_model import LogisticRegression\n",
    "# стандартизация\n",
    "from sklearn.preprocessing import StandardScaler\n",
    "# метод главных компонент\n",
    "from sklearn.decomposition import PCA\n",
    "# конвейеры\n",
    "from sklearn.pipeline import make_pipeline\n",
    "# перекрёстная проверка и метод проверочной выборки\n",
    "from sklearn.model_selection import cross_val_score, train_test_split\n",
    "# для перекрёстной проверки и сеточного поиска\n",
    "from sklearn.model_selection import KFold, GridSearchCV\n",
    "# сводка по точности классификации\n",
    "from sklearn.metrics import classification_report"
   ]
  },
  {
   "cell_type": "code",
   "execution_count": 3,
   "id": "934cd38f",
   "metadata": {},
   "outputs": [],
   "source": [
    "# константы\n",
    "# ядро для генератора случайных чисел\n",
    "my_seed = 8\n",
    "# создаём псевдоним для короткого обращения к графикам\n",
    "plt = mpl.pyplot\n",
    "# настройка стиля и отображения графиков\n",
    "# примеры стилей и шаблонов графиков: \n",
    "# http://tonysyu.github.io/raw_content/matplotlib-style-gallery/gallery.html\n",
    "mpl.style.use('seaborn-whitegrid')\n",
    "sns.set_palette(\"Set2\")\n",
    "# раскомментируйте следующую строку, чтобы посмотреть палитру\n",
    "# sns.color_palette(\"Set2\")"
   ]
  },
  {
   "cell_type": "markdown",
   "id": "b13982fc",
   "metadata": {},
   "source": [
    "## Загружаем данные\n",
    "\n",
    "Набор данных можно загрузить напрямую по ссылке: <https://github.com/aksyuk/MTML/blob/main/Labs/data/winequality-white_for_lab.csv>\n",
    "\n",
    "Справочник к данным доступен по адресу: <https://github.com/aksyuk/MTML/blob/main/Labs/data/CodeBook_winequality-white_for_lab.md>\n",
    "\n",
    "Загружаем данные во фрейм и выясняем их размерность. Смотрим первые строки таблицы."
   ]
  },
  {
   "cell_type": "code",
   "execution_count": 4,
   "id": "2f8e9388",
   "metadata": {
    "scrolled": true
   },
   "outputs": [
    {
     "name": "stdout",
     "output_type": "stream",
     "text": [
      "Число строк и столбцов в наборе данных:\n",
      " (4898, 13)\n"
     ]
    }
   ],
   "source": [
    "# загружаем данные\n",
    "DF_raw = pd.read_csv('https://raw.githubusercontent.com/aksyuk/MTML/main/Labs/data/winequality-white_for_lab.csv')\n",
    "\n",
    "# выясняем размерность фрейма\n",
    "print('Число строк и столбцов в наборе данных:\\n', DF_raw.shape)     "
   ]
  },
  {
   "cell_type": "code",
   "execution_count": 5,
   "id": "e953f566",
   "metadata": {},
   "outputs": [
    {
     "data": {
      "text/html": [
       "<div>\n",
       "<style scoped>\n",
       "    .dataframe tbody tr th:only-of-type {\n",
       "        vertical-align: middle;\n",
       "    }\n",
       "\n",
       "    .dataframe tbody tr th {\n",
       "        vertical-align: top;\n",
       "    }\n",
       "\n",
       "    .dataframe thead th {\n",
       "        text-align: right;\n",
       "    }\n",
       "</style>\n",
       "<table border=\"1\" class=\"dataframe\">\n",
       "  <thead>\n",
       "    <tr style=\"text-align: right;\">\n",
       "      <th></th>\n",
       "      <th>fixed_acidity</th>\n",
       "      <th>volatile_acidity</th>\n",
       "      <th>citric_acid</th>\n",
       "      <th>residual_sugar</th>\n",
       "      <th>chlorides</th>\n",
       "      <th>free_sulfur_dioxide</th>\n",
       "      <th>total_sulfur_dioxide</th>\n",
       "      <th>density</th>\n",
       "      <th>pH</th>\n",
       "      <th>sulphates</th>\n",
       "      <th>alcohol</th>\n",
       "      <th>quality</th>\n",
       "      <th>Y</th>\n",
       "    </tr>\n",
       "  </thead>\n",
       "  <tbody>\n",
       "    <tr>\n",
       "      <th>0</th>\n",
       "      <td>7.0</td>\n",
       "      <td>0.27</td>\n",
       "      <td>0.36</td>\n",
       "      <td>20.7</td>\n",
       "      <td>0.045</td>\n",
       "      <td>45.0</td>\n",
       "      <td>170.0</td>\n",
       "      <td>1.0010</td>\n",
       "      <td>3.00</td>\n",
       "      <td>0.45</td>\n",
       "      <td>8.8</td>\n",
       "      <td>6</td>\n",
       "      <td>1</td>\n",
       "    </tr>\n",
       "    <tr>\n",
       "      <th>1</th>\n",
       "      <td>6.3</td>\n",
       "      <td>0.30</td>\n",
       "      <td>0.34</td>\n",
       "      <td>1.6</td>\n",
       "      <td>0.049</td>\n",
       "      <td>14.0</td>\n",
       "      <td>132.0</td>\n",
       "      <td>0.9940</td>\n",
       "      <td>3.30</td>\n",
       "      <td>0.49</td>\n",
       "      <td>9.5</td>\n",
       "      <td>6</td>\n",
       "      <td>1</td>\n",
       "    </tr>\n",
       "    <tr>\n",
       "      <th>2</th>\n",
       "      <td>8.1</td>\n",
       "      <td>0.28</td>\n",
       "      <td>0.40</td>\n",
       "      <td>6.9</td>\n",
       "      <td>0.050</td>\n",
       "      <td>30.0</td>\n",
       "      <td>97.0</td>\n",
       "      <td>0.9951</td>\n",
       "      <td>3.26</td>\n",
       "      <td>0.44</td>\n",
       "      <td>10.1</td>\n",
       "      <td>6</td>\n",
       "      <td>1</td>\n",
       "    </tr>\n",
       "    <tr>\n",
       "      <th>3</th>\n",
       "      <td>7.2</td>\n",
       "      <td>0.23</td>\n",
       "      <td>0.32</td>\n",
       "      <td>8.5</td>\n",
       "      <td>0.058</td>\n",
       "      <td>47.0</td>\n",
       "      <td>186.0</td>\n",
       "      <td>0.9956</td>\n",
       "      <td>3.19</td>\n",
       "      <td>0.40</td>\n",
       "      <td>9.9</td>\n",
       "      <td>6</td>\n",
       "      <td>1</td>\n",
       "    </tr>\n",
       "    <tr>\n",
       "      <th>4</th>\n",
       "      <td>7.2</td>\n",
       "      <td>0.23</td>\n",
       "      <td>0.32</td>\n",
       "      <td>8.5</td>\n",
       "      <td>0.058</td>\n",
       "      <td>47.0</td>\n",
       "      <td>186.0</td>\n",
       "      <td>0.9956</td>\n",
       "      <td>3.19</td>\n",
       "      <td>0.40</td>\n",
       "      <td>9.9</td>\n",
       "      <td>6</td>\n",
       "      <td>1</td>\n",
       "    </tr>\n",
       "  </tbody>\n",
       "</table>\n",
       "</div>"
      ],
      "text/plain": [
       "   fixed_acidity  volatile_acidity  citric_acid  residual_sugar  chlorides  \\\n",
       "0            7.0              0.27         0.36            20.7      0.045   \n",
       "1            6.3              0.30         0.34             1.6      0.049   \n",
       "2            8.1              0.28         0.40             6.9      0.050   \n",
       "3            7.2              0.23         0.32             8.5      0.058   \n",
       "4            7.2              0.23         0.32             8.5      0.058   \n",
       "\n",
       "   free_sulfur_dioxide  total_sulfur_dioxide  density    pH  sulphates  \\\n",
       "0                 45.0                 170.0   1.0010  3.00       0.45   \n",
       "1                 14.0                 132.0   0.9940  3.30       0.49   \n",
       "2                 30.0                  97.0   0.9951  3.26       0.44   \n",
       "3                 47.0                 186.0   0.9956  3.19       0.40   \n",
       "4                 47.0                 186.0   0.9956  3.19       0.40   \n",
       "\n",
       "   alcohol  quality  Y  \n",
       "0      8.8        6  1  \n",
       "1      9.5        6  1  \n",
       "2     10.1        6  1  \n",
       "3      9.9        6  1  \n",
       "4      9.9        6  1  "
      ]
     },
     "execution_count": 5,
     "metadata": {},
     "output_type": "execute_result"
    }
   ],
   "source": [
    "# первые строки\n",
    "DF_raw.head(5)"
   ]
  },
  {
   "cell_type": "code",
   "execution_count": 6,
   "id": "a00cba7f",
   "metadata": {},
   "outputs": [
    {
     "data": {
      "text/plain": [
       "fixed_acidity           float64\n",
       "volatile_acidity        float64\n",
       "citric_acid             float64\n",
       "residual_sugar          float64\n",
       "chlorides               float64\n",
       "free_sulfur_dioxide     float64\n",
       "total_sulfur_dioxide    float64\n",
       "density                 float64\n",
       "pH                      float64\n",
       "sulphates               float64\n",
       "alcohol                 float64\n",
       "quality                   int64\n",
       "Y                         int64\n",
       "dtype: object"
      ]
     },
     "execution_count": 6,
     "metadata": {},
     "output_type": "execute_result"
    }
   ],
   "source": [
    "# типы столбцов\n",
    "DF_raw.dtypes"
   ]
  },
  {
   "cell_type": "code",
   "execution_count": 7,
   "id": "19d94498",
   "metadata": {},
   "outputs": [
    {
     "data": {
      "text/plain": [
       "fixed_acidity           0\n",
       "volatile_acidity        0\n",
       "citric_acid             0\n",
       "residual_sugar          0\n",
       "chlorides               0\n",
       "free_sulfur_dioxide     0\n",
       "total_sulfur_dioxide    0\n",
       "density                 0\n",
       "pH                      0\n",
       "sulphates               0\n",
       "alcohol                 0\n",
       "quality                 0\n",
       "Y                       0\n",
       "dtype: int64"
      ]
     },
     "execution_count": 7,
     "metadata": {},
     "output_type": "execute_result"
    }
   ],
   "source": [
    "DF_raw.isna().sum()"
   ]
  },
  {
   "cell_type": "code",
   "execution_count": 8,
   "id": "2bcb78ad",
   "metadata": {},
   "outputs": [],
   "source": [
    "DF = DF_raw.sample(frac = 0.85, random_state = my_seed)\n",
    "DF_predict = DF_raw.drop(DF.index)"
   ]
  },
  {
   "cell_type": "code",
   "execution_count": 9,
   "id": "6fb36dd8",
   "metadata": {},
   "outputs": [
    {
     "data": {
      "text/html": [
       "<div>\n",
       "<style scoped>\n",
       "    .dataframe tbody tr th:only-of-type {\n",
       "        vertical-align: middle;\n",
       "    }\n",
       "\n",
       "    .dataframe tbody tr th {\n",
       "        vertical-align: top;\n",
       "    }\n",
       "\n",
       "    .dataframe thead th {\n",
       "        text-align: right;\n",
       "    }\n",
       "</style>\n",
       "<table border=\"1\" class=\"dataframe\">\n",
       "  <thead>\n",
       "    <tr style=\"text-align: right;\">\n",
       "      <th></th>\n",
       "      <th>fixed_acidity</th>\n",
       "      <th>volatile_acidity</th>\n",
       "      <th>citric_acid</th>\n",
       "      <th>residual_sugar</th>\n",
       "      <th>chlorides</th>\n",
       "      <th>free_sulfur_dioxide</th>\n",
       "      <th>total_sulfur_dioxide</th>\n",
       "      <th>density</th>\n",
       "      <th>pH</th>\n",
       "      <th>sulphates</th>\n",
       "      <th>alcohol</th>\n",
       "      <th>quality</th>\n",
       "      <th>Y</th>\n",
       "    </tr>\n",
       "  </thead>\n",
       "  <tbody>\n",
       "    <tr>\n",
       "      <th>count</th>\n",
       "      <td>4163.000000</td>\n",
       "      <td>4163.000000</td>\n",
       "      <td>4163.000000</td>\n",
       "      <td>4163.000000</td>\n",
       "      <td>4163.000000</td>\n",
       "      <td>4163.000000</td>\n",
       "      <td>4163.000000</td>\n",
       "      <td>4163.000000</td>\n",
       "      <td>4163.000000</td>\n",
       "      <td>4163.000000</td>\n",
       "      <td>4163.000000</td>\n",
       "      <td>4163.000000</td>\n",
       "      <td>4163.000000</td>\n",
       "    </tr>\n",
       "    <tr>\n",
       "      <th>mean</th>\n",
       "      <td>6.853147</td>\n",
       "      <td>0.278675</td>\n",
       "      <td>0.333666</td>\n",
       "      <td>6.393935</td>\n",
       "      <td>0.046029</td>\n",
       "      <td>35.277925</td>\n",
       "      <td>138.093682</td>\n",
       "      <td>0.994018</td>\n",
       "      <td>3.187821</td>\n",
       "      <td>0.489181</td>\n",
       "      <td>10.519741</td>\n",
       "      <td>5.879414</td>\n",
       "      <td>0.664425</td>\n",
       "    </tr>\n",
       "    <tr>\n",
       "      <th>std</th>\n",
       "      <td>0.839406</td>\n",
       "      <td>0.101242</td>\n",
       "      <td>0.121310</td>\n",
       "      <td>5.115534</td>\n",
       "      <td>0.022604</td>\n",
       "      <td>16.664716</td>\n",
       "      <td>42.015077</td>\n",
       "      <td>0.003026</td>\n",
       "      <td>0.150405</td>\n",
       "      <td>0.114023</td>\n",
       "      <td>1.237346</td>\n",
       "      <td>0.885500</td>\n",
       "      <td>0.472248</td>\n",
       "    </tr>\n",
       "    <tr>\n",
       "      <th>min</th>\n",
       "      <td>3.800000</td>\n",
       "      <td>0.080000</td>\n",
       "      <td>0.000000</td>\n",
       "      <td>0.600000</td>\n",
       "      <td>0.009000</td>\n",
       "      <td>2.000000</td>\n",
       "      <td>9.000000</td>\n",
       "      <td>0.987110</td>\n",
       "      <td>2.720000</td>\n",
       "      <td>0.220000</td>\n",
       "      <td>8.000000</td>\n",
       "      <td>3.000000</td>\n",
       "      <td>0.000000</td>\n",
       "    </tr>\n",
       "    <tr>\n",
       "      <th>25%</th>\n",
       "      <td>6.300000</td>\n",
       "      <td>0.210000</td>\n",
       "      <td>0.270000</td>\n",
       "      <td>1.700000</td>\n",
       "      <td>0.036000</td>\n",
       "      <td>23.000000</td>\n",
       "      <td>108.000000</td>\n",
       "      <td>0.991700</td>\n",
       "      <td>3.090000</td>\n",
       "      <td>0.410000</td>\n",
       "      <td>9.500000</td>\n",
       "      <td>5.000000</td>\n",
       "      <td>0.000000</td>\n",
       "    </tr>\n",
       "    <tr>\n",
       "      <th>50%</th>\n",
       "      <td>6.800000</td>\n",
       "      <td>0.260000</td>\n",
       "      <td>0.320000</td>\n",
       "      <td>5.100000</td>\n",
       "      <td>0.043000</td>\n",
       "      <td>34.000000</td>\n",
       "      <td>134.000000</td>\n",
       "      <td>0.993700</td>\n",
       "      <td>3.180000</td>\n",
       "      <td>0.470000</td>\n",
       "      <td>10.400000</td>\n",
       "      <td>6.000000</td>\n",
       "      <td>1.000000</td>\n",
       "    </tr>\n",
       "    <tr>\n",
       "      <th>75%</th>\n",
       "      <td>7.300000</td>\n",
       "      <td>0.320000</td>\n",
       "      <td>0.390000</td>\n",
       "      <td>9.900000</td>\n",
       "      <td>0.050000</td>\n",
       "      <td>46.000000</td>\n",
       "      <td>167.000000</td>\n",
       "      <td>0.996135</td>\n",
       "      <td>3.280000</td>\n",
       "      <td>0.550000</td>\n",
       "      <td>11.400000</td>\n",
       "      <td>6.000000</td>\n",
       "      <td>1.000000</td>\n",
       "    </tr>\n",
       "    <tr>\n",
       "      <th>max</th>\n",
       "      <td>14.200000</td>\n",
       "      <td>1.100000</td>\n",
       "      <td>1.660000</td>\n",
       "      <td>65.800000</td>\n",
       "      <td>0.346000</td>\n",
       "      <td>146.500000</td>\n",
       "      <td>344.000000</td>\n",
       "      <td>1.038980</td>\n",
       "      <td>3.800000</td>\n",
       "      <td>1.080000</td>\n",
       "      <td>14.200000</td>\n",
       "      <td>9.000000</td>\n",
       "      <td>1.000000</td>\n",
       "    </tr>\n",
       "  </tbody>\n",
       "</table>\n",
       "</div>"
      ],
      "text/plain": [
       "       fixed_acidity  volatile_acidity  citric_acid  residual_sugar  \\\n",
       "count    4163.000000       4163.000000  4163.000000     4163.000000   \n",
       "mean        6.853147          0.278675     0.333666        6.393935   \n",
       "std         0.839406          0.101242     0.121310        5.115534   \n",
       "min         3.800000          0.080000     0.000000        0.600000   \n",
       "25%         6.300000          0.210000     0.270000        1.700000   \n",
       "50%         6.800000          0.260000     0.320000        5.100000   \n",
       "75%         7.300000          0.320000     0.390000        9.900000   \n",
       "max        14.200000          1.100000     1.660000       65.800000   \n",
       "\n",
       "         chlorides  free_sulfur_dioxide  total_sulfur_dioxide      density  \\\n",
       "count  4163.000000          4163.000000           4163.000000  4163.000000   \n",
       "mean      0.046029            35.277925            138.093682     0.994018   \n",
       "std       0.022604            16.664716             42.015077     0.003026   \n",
       "min       0.009000             2.000000              9.000000     0.987110   \n",
       "25%       0.036000            23.000000            108.000000     0.991700   \n",
       "50%       0.043000            34.000000            134.000000     0.993700   \n",
       "75%       0.050000            46.000000            167.000000     0.996135   \n",
       "max       0.346000           146.500000            344.000000     1.038980   \n",
       "\n",
       "                pH    sulphates      alcohol      quality            Y  \n",
       "count  4163.000000  4163.000000  4163.000000  4163.000000  4163.000000  \n",
       "mean      3.187821     0.489181    10.519741     5.879414     0.664425  \n",
       "std       0.150405     0.114023     1.237346     0.885500     0.472248  \n",
       "min       2.720000     0.220000     8.000000     3.000000     0.000000  \n",
       "25%       3.090000     0.410000     9.500000     5.000000     0.000000  \n",
       "50%       3.180000     0.470000    10.400000     6.000000     1.000000  \n",
       "75%       3.280000     0.550000    11.400000     6.000000     1.000000  \n",
       "max       3.800000     1.080000    14.200000     9.000000     1.000000  "
      ]
     },
     "execution_count": 9,
     "metadata": {},
     "output_type": "execute_result"
    }
   ],
   "source": [
    "DF.describe()"
   ]
  },
  {
   "cell_type": "markdown",
   "id": "d08c9a63",
   "metadata": {},
   "source": [
    "## Преобразование исходных данных и построение моделей\n",
    "\n",
    "В качестве альтернативных моделей рассмотрим SVM с различными вариантами ядер и логистическую регрессию. Причём предварительно преобразуем пространство исходных показателей с помощью метода главных компонент."
   ]
  },
  {
   "cell_type": "markdown",
   "id": "5ceac697",
   "metadata": {},
   "source": [
    "## Стандартизация и переход к главным компонентам"
   ]
  },
  {
   "cell_type": "code",
   "execution_count": 10,
   "id": "a233f74c",
   "metadata": {},
   "outputs": [
    {
     "name": "stdout",
     "output_type": "stream",
     "text": [
      "Доли объяснённой дисперсии по компонентам в PLS:\n",
      " [0.28  0.132 0.115 0.09  0.082 0.078 0.064 0.059 0.046 0.029 0.024 0.002] \n",
      "Общая сумма долей: 1.0\n"
     ]
    }
   ],
   "source": [
    "# стандартизация\n",
    "sc = StandardScaler()\n",
    "X_train_std = sc.fit_transform(DF.iloc[:, 0:12].values)\n",
    "\n",
    "# оцениваем объяснённую главными компонентами дисперсию\n",
    "pca = PCA()\n",
    "X_train_pca = pca.fit_transform(X_train_std)\n",
    "\n",
    "# считаем доли объяснённой дисперсии\n",
    "frac_var_expl = pca.explained_variance_ratio_\n",
    "print('Доли объяснённой дисперсии по компонентам в PLS:\\n',\n",
    "    np.around(frac_var_expl, 3),\n",
    "    '\\nОбщая сумма долей:', np.around(sum(frac_var_expl), 3))"
   ]
  },
  {
   "cell_type": "markdown",
   "id": "fffd7e74",
   "metadata": {},
   "source": [
    "Таким образом, первые две главные компоненты объясняют 41.2% разброса 12 объясняющих переменных.\n",
    "Теперь объединим функции-преобразователи и оценщики в конвейер с помощью `Pipeline` и оценим точность логистической регрессии с помощью перекрёстной проверки."
   ]
  },
  {
   "cell_type": "markdown",
   "id": "f8777e2c",
   "metadata": {},
   "source": [
    "## Модель логистической регрессии с перекрёстной проверкой"
   ]
  },
  {
   "cell_type": "code",
   "execution_count": 11,
   "id": "4837c50d",
   "metadata": {},
   "outputs": [
    {
     "name": "stdout",
     "output_type": "stream",
     "text": [
      "Acc с перекрёстной проверкой \n",
      "для модели sc_pca_logit : 0.685\n"
     ]
    }
   ],
   "source": [
    "# данные для обучения моделей\n",
    "X_train = DF.iloc[:, 0:12] \n",
    "y_train = DF.iloc[:, -1]\n",
    "\n",
    "# объединяем в конвейер шкалирование, ГК с 2 компонентами и логит\n",
    "pipe_lr = make_pipeline(StandardScaler(),\n",
    "                        PCA(n_components = 2),\n",
    "                        LogisticRegression(random_state = my_seed, \n",
    "                                           solver = 'lbfgs'))\n",
    "\n",
    "# будем сохранять точность моделей в один массив\n",
    "score = list()\n",
    "score_models = list()\n",
    "\n",
    "# считаем точность с перекрёстной проверкой, показатель Acc\n",
    "cv = cross_val_score(estimator = pipe_lr, X = X_train, y = y_train, \n",
    "                     cv = 5, scoring='accuracy')\n",
    "\n",
    "# записываем точность\n",
    "score.append(np.around(np.mean(cv), 3)) \n",
    "score_models.append('sc_pca_logit')\n",
    "print('Acc с перекрёстной проверкой',\n",
    "      '\\nдля модели', score_models[0], ':', score[0])"
   ]
  },
  {
   "cell_type": "code",
   "execution_count": 12,
   "id": "cdf92bb8",
   "metadata": {
    "scrolled": true
   },
   "outputs": [
    {
     "data": {
      "text/html": [
       "<div>\n",
       "<style scoped>\n",
       "    .dataframe tbody tr th:only-of-type {\n",
       "        vertical-align: middle;\n",
       "    }\n",
       "\n",
       "    .dataframe tbody tr th {\n",
       "        vertical-align: top;\n",
       "    }\n",
       "\n",
       "    .dataframe thead th {\n",
       "        text-align: right;\n",
       "    }\n",
       "</style>\n",
       "<table border=\"1\" class=\"dataframe\">\n",
       "  <thead>\n",
       "    <tr style=\"text-align: right;\">\n",
       "      <th></th>\n",
       "      <th>fixed_acidity</th>\n",
       "      <th>volatile_acidity</th>\n",
       "      <th>citric_acid</th>\n",
       "      <th>residual_sugar</th>\n",
       "      <th>chlorides</th>\n",
       "      <th>free_sulfur_dioxide</th>\n",
       "      <th>total_sulfur_dioxide</th>\n",
       "      <th>density</th>\n",
       "      <th>pH</th>\n",
       "      <th>sulphates</th>\n",
       "      <th>alcohol</th>\n",
       "      <th>quality</th>\n",
       "    </tr>\n",
       "  </thead>\n",
       "  <tbody>\n",
       "    <tr>\n",
       "      <th>4245</th>\n",
       "      <td>7.6</td>\n",
       "      <td>0.350</td>\n",
       "      <td>0.47</td>\n",
       "      <td>13.30</td>\n",
       "      <td>0.037</td>\n",
       "      <td>42.0</td>\n",
       "      <td>116.0</td>\n",
       "      <td>0.99822</td>\n",
       "      <td>3.04</td>\n",
       "      <td>0.50</td>\n",
       "      <td>9.2</td>\n",
       "      <td>5</td>\n",
       "    </tr>\n",
       "    <tr>\n",
       "      <th>945</th>\n",
       "      <td>6.7</td>\n",
       "      <td>0.150</td>\n",
       "      <td>0.29</td>\n",
       "      <td>5.00</td>\n",
       "      <td>0.058</td>\n",
       "      <td>28.0</td>\n",
       "      <td>105.0</td>\n",
       "      <td>0.99460</td>\n",
       "      <td>3.52</td>\n",
       "      <td>0.44</td>\n",
       "      <td>10.2</td>\n",
       "      <td>7</td>\n",
       "    </tr>\n",
       "    <tr>\n",
       "      <th>394</th>\n",
       "      <td>6.8</td>\n",
       "      <td>0.370</td>\n",
       "      <td>0.51</td>\n",
       "      <td>11.80</td>\n",
       "      <td>0.044</td>\n",
       "      <td>62.0</td>\n",
       "      <td>163.0</td>\n",
       "      <td>0.99760</td>\n",
       "      <td>3.19</td>\n",
       "      <td>0.44</td>\n",
       "      <td>8.8</td>\n",
       "      <td>5</td>\n",
       "    </tr>\n",
       "    <tr>\n",
       "      <th>3464</th>\n",
       "      <td>6.9</td>\n",
       "      <td>0.290</td>\n",
       "      <td>0.41</td>\n",
       "      <td>7.80</td>\n",
       "      <td>0.046</td>\n",
       "      <td>52.0</td>\n",
       "      <td>171.0</td>\n",
       "      <td>0.99537</td>\n",
       "      <td>3.12</td>\n",
       "      <td>0.51</td>\n",
       "      <td>9.6</td>\n",
       "      <td>5</td>\n",
       "    </tr>\n",
       "    <tr>\n",
       "      <th>4261</th>\n",
       "      <td>6.0</td>\n",
       "      <td>0.310</td>\n",
       "      <td>0.27</td>\n",
       "      <td>2.30</td>\n",
       "      <td>0.042</td>\n",
       "      <td>19.0</td>\n",
       "      <td>120.0</td>\n",
       "      <td>0.98952</td>\n",
       "      <td>3.32</td>\n",
       "      <td>0.41</td>\n",
       "      <td>12.7</td>\n",
       "      <td>7</td>\n",
       "    </tr>\n",
       "    <tr>\n",
       "      <th>...</th>\n",
       "      <td>...</td>\n",
       "      <td>...</td>\n",
       "      <td>...</td>\n",
       "      <td>...</td>\n",
       "      <td>...</td>\n",
       "      <td>...</td>\n",
       "      <td>...</td>\n",
       "      <td>...</td>\n",
       "      <td>...</td>\n",
       "      <td>...</td>\n",
       "      <td>...</td>\n",
       "      <td>...</td>\n",
       "    </tr>\n",
       "    <tr>\n",
       "      <th>2505</th>\n",
       "      <td>7.4</td>\n",
       "      <td>0.400</td>\n",
       "      <td>0.41</td>\n",
       "      <td>14.10</td>\n",
       "      <td>0.053</td>\n",
       "      <td>37.0</td>\n",
       "      <td>194.0</td>\n",
       "      <td>0.99886</td>\n",
       "      <td>3.20</td>\n",
       "      <td>0.63</td>\n",
       "      <td>9.4</td>\n",
       "      <td>6</td>\n",
       "    </tr>\n",
       "    <tr>\n",
       "      <th>1245</th>\n",
       "      <td>8.0</td>\n",
       "      <td>0.660</td>\n",
       "      <td>0.72</td>\n",
       "      <td>17.55</td>\n",
       "      <td>0.042</td>\n",
       "      <td>62.0</td>\n",
       "      <td>233.0</td>\n",
       "      <td>0.99990</td>\n",
       "      <td>2.92</td>\n",
       "      <td>0.68</td>\n",
       "      <td>9.4</td>\n",
       "      <td>4</td>\n",
       "    </tr>\n",
       "    <tr>\n",
       "      <th>4080</th>\n",
       "      <td>5.7</td>\n",
       "      <td>0.250</td>\n",
       "      <td>0.27</td>\n",
       "      <td>10.80</td>\n",
       "      <td>0.050</td>\n",
       "      <td>58.0</td>\n",
       "      <td>116.0</td>\n",
       "      <td>0.99592</td>\n",
       "      <td>3.10</td>\n",
       "      <td>0.50</td>\n",
       "      <td>9.8</td>\n",
       "      <td>6</td>\n",
       "    </tr>\n",
       "    <tr>\n",
       "      <th>558</th>\n",
       "      <td>5.9</td>\n",
       "      <td>0.210</td>\n",
       "      <td>0.24</td>\n",
       "      <td>12.10</td>\n",
       "      <td>0.044</td>\n",
       "      <td>53.0</td>\n",
       "      <td>165.0</td>\n",
       "      <td>0.99690</td>\n",
       "      <td>3.25</td>\n",
       "      <td>0.39</td>\n",
       "      <td>9.5</td>\n",
       "      <td>5</td>\n",
       "    </tr>\n",
       "    <tr>\n",
       "      <th>594</th>\n",
       "      <td>6.4</td>\n",
       "      <td>0.475</td>\n",
       "      <td>0.06</td>\n",
       "      <td>1.00</td>\n",
       "      <td>0.030</td>\n",
       "      <td>9.0</td>\n",
       "      <td>131.0</td>\n",
       "      <td>0.99040</td>\n",
       "      <td>2.97</td>\n",
       "      <td>0.29</td>\n",
       "      <td>10.8</td>\n",
       "      <td>5</td>\n",
       "    </tr>\n",
       "  </tbody>\n",
       "</table>\n",
       "<p>4163 rows × 12 columns</p>\n",
       "</div>"
      ],
      "text/plain": [
       "      fixed_acidity  volatile_acidity  citric_acid  residual_sugar  chlorides  \\\n",
       "4245            7.6             0.350         0.47           13.30      0.037   \n",
       "945             6.7             0.150         0.29            5.00      0.058   \n",
       "394             6.8             0.370         0.51           11.80      0.044   \n",
       "3464            6.9             0.290         0.41            7.80      0.046   \n",
       "4261            6.0             0.310         0.27            2.30      0.042   \n",
       "...             ...               ...          ...             ...        ...   \n",
       "2505            7.4             0.400         0.41           14.10      0.053   \n",
       "1245            8.0             0.660         0.72           17.55      0.042   \n",
       "4080            5.7             0.250         0.27           10.80      0.050   \n",
       "558             5.9             0.210         0.24           12.10      0.044   \n",
       "594             6.4             0.475         0.06            1.00      0.030   \n",
       "\n",
       "      free_sulfur_dioxide  total_sulfur_dioxide  density    pH  sulphates  \\\n",
       "4245                 42.0                 116.0  0.99822  3.04       0.50   \n",
       "945                  28.0                 105.0  0.99460  3.52       0.44   \n",
       "394                  62.0                 163.0  0.99760  3.19       0.44   \n",
       "3464                 52.0                 171.0  0.99537  3.12       0.51   \n",
       "4261                 19.0                 120.0  0.98952  3.32       0.41   \n",
       "...                   ...                   ...      ...   ...        ...   \n",
       "2505                 37.0                 194.0  0.99886  3.20       0.63   \n",
       "1245                 62.0                 233.0  0.99990  2.92       0.68   \n",
       "4080                 58.0                 116.0  0.99592  3.10       0.50   \n",
       "558                  53.0                 165.0  0.99690  3.25       0.39   \n",
       "594                   9.0                 131.0  0.99040  2.97       0.29   \n",
       "\n",
       "      alcohol  quality  \n",
       "4245      9.2        5  \n",
       "945      10.2        7  \n",
       "394       8.8        5  \n",
       "3464      9.6        5  \n",
       "4261     12.7        7  \n",
       "...       ...      ...  \n",
       "2505      9.4        6  \n",
       "1245      9.4        4  \n",
       "4080      9.8        6  \n",
       "558       9.5        5  \n",
       "594      10.8        5  \n",
       "\n",
       "[4163 rows x 12 columns]"
      ]
     },
     "execution_count": 12,
     "metadata": {},
     "output_type": "execute_result"
    }
   ],
   "source": [
    "X_train"
   ]
  },
  {
   "cell_type": "code",
   "execution_count": 13,
   "id": "6071ac54",
   "metadata": {},
   "outputs": [
    {
     "data": {
      "text/plain": [
       "4245    0\n",
       "945     1\n",
       "394     0\n",
       "3464    0\n",
       "4261    1\n",
       "       ..\n",
       "2505    1\n",
       "1245    0\n",
       "4080    1\n",
       "558     0\n",
       "594     0\n",
       "Name: Y, Length: 4163, dtype: int64"
      ]
     },
     "execution_count": 13,
     "metadata": {},
     "output_type": "execute_result"
    }
   ],
   "source": [
    "y_train"
   ]
  },
  {
   "cell_type": "markdown",
   "id": "45600bf4",
   "metadata": {},
   "source": [
    "Таким образом, мы убедились в том, что X_train и y_train правильно определены."
   ]
  },
  {
   "cell_type": "markdown",
   "id": "9cca717a",
   "metadata": {},
   "source": [
    "## SVM с перекрёстной проверкой\n",
    "\n",
    "Построим несколько вариантов модели SVM с различными ядерными функциями."
   ]
  },
  {
   "cell_type": "code",
   "execution_count": 14,
   "id": "5da3f4bb",
   "metadata": {},
   "outputs": [
    {
     "name": "stdout",
     "output_type": "stream",
     "text": [
      "Сеточный поиск занял 81.15 секунд\n"
     ]
    }
   ],
   "source": [
    "pipe_svc = make_pipeline(StandardScaler(), \n",
    "                         SVC(random_state = my_seed))\n",
    "\n",
    "# настроим параметры SVM с помощью сеточного поиска\n",
    "param_range = [0.0001, 0.001, 0.01, 0.1] \n",
    "param_grid = [{'svc__C': param_range,\n",
    "               'svc__kernel': ['linear']},\n",
    "              {'svc__C': param_range,\n",
    "               'svc__gamma': param_range,\n",
    "               'svc__kernel': ['rbf']},\n",
    "              {'svc__C': param_range,\n",
    "               'svc__gamma': param_range,\n",
    "               'svc__degree' : [2, 3],\n",
    "               'svc__kernel': ['poly']}]\n",
    "\n",
    "# разбиения для перекрёстной проверки\n",
    "kfold = KFold(n_splits = 5, random_state = my_seed, shuffle = True)\n",
    "gs = GridSearchCV(estimator = pipe_svc, param_grid = param_grid, \n",
    "                  scoring = 'accuracy', refit = True, cv = kfold, \n",
    "                  n_jobs = -1)\n",
    "\n",
    "# таймер\n",
    "tic = time.perf_counter()\n",
    "\n",
    "# запускаем сеточный поиск\n",
    "gs = gs.fit(X_train, y_train)\n",
    "\n",
    "# таймер\n",
    "toc = time.perf_counter()\n",
    "print(f\"Сеточный поиск занял {toc - tic:0.2f} секунд\", sep='')"
   ]
  },
  {
   "cell_type": "code",
   "execution_count": 15,
   "id": "503f1b13",
   "metadata": {},
   "outputs": [
    {
     "data": {
      "text/plain": [
       "1.0"
      ]
     },
     "execution_count": 15,
     "metadata": {},
     "output_type": "execute_result"
    }
   ],
   "source": [
    "# точность лучшей модели\n",
    "np.around(gs.best_score_, 3)"
   ]
  },
  {
   "cell_type": "code",
   "execution_count": 16,
   "id": "5d045667",
   "metadata": {},
   "outputs": [
    {
     "data": {
      "text/plain": [
       "'linear'"
      ]
     },
     "execution_count": 16,
     "metadata": {},
     "output_type": "execute_result"
    }
   ],
   "source": [
    "# параметры лучшей модели\n",
    "# * ядерная функция\n",
    "gs.best_estimator_.get_params()['svc__kernel']"
   ]
  },
  {
   "cell_type": "code",
   "execution_count": 17,
   "id": "7df532a4",
   "metadata": {},
   "outputs": [
    {
     "data": {
      "text/plain": [
       "0.01"
      ]
     },
     "execution_count": 17,
     "metadata": {},
     "output_type": "execute_result"
    }
   ],
   "source": [
    "# * параметр регуляризации\n",
    "gs.best_estimator_.get_params()['svc__C']"
   ]
  },
  {
   "cell_type": "code",
   "execution_count": 18,
   "id": "7d03d783",
   "metadata": {},
   "outputs": [
    {
     "data": {
      "text/plain": [
       "'scale'"
      ]
     },
     "execution_count": 18,
     "metadata": {},
     "output_type": "execute_result"
    }
   ],
   "source": [
    "# * коэффициент ядерной функции (для ядер 'rbf', 'poly' и 'sigmoid')\n",
    "gs.best_estimator_.get_params()['svc__gamma']"
   ]
  },
  {
   "cell_type": "code",
   "execution_count": 19,
   "id": "d98e98f2",
   "metadata": {},
   "outputs": [
    {
     "data": {
      "text/plain": [
       "3"
      ]
     },
     "execution_count": 19,
     "metadata": {},
     "output_type": "execute_result"
    }
   ],
   "source": [
    "# * степень полинома (для ядра 'poly')\n",
    "gs.best_estimator_.get_params()['svc__degree']"
   ]
  },
  {
   "cell_type": "markdown",
   "id": "f02c79b6",
   "metadata": {},
   "source": [
    "📚 Подробности сеточного поиска\n",
    "\n",
    "Посмотреть результаты сеточного поиска можно в объектах:\n",
    "* gs.cv_results_['params'] – список сочетаний параметров;\n",
    "* gs.cv_results_['mean_test_score'] – значения для сочетаний параметров\n",
    "(средние по блокам перекрёстной проверки).\n"
   ]
  },
  {
   "cell_type": "code",
   "execution_count": 20,
   "id": "c03c4970",
   "metadata": {},
   "outputs": [
    {
     "name": "stdout",
     "output_type": "stream",
     "text": [
      "Acc с перекрёстной проверкой \n",
      "для модели sc_pca_svc : 1.0\n"
     ]
    }
   ],
   "source": [
    "# записываем точность\n",
    "score.append(np.around(gs.best_score_, 3))\n",
    "score_models.append('sc_pca_svc')\n",
    "print('Acc с перекрёстной проверкой',\n",
    " '\\nдля модели', score_models[1], ':', score[1])"
   ]
  },
  {
   "cell_type": "markdown",
   "id": "d0748917",
   "metadata": {},
   "source": [
    "# Метод kNN\n",
    "\n",
    "Реализуем метод k-ближайших соседей с преобразованием PCA."
   ]
  },
  {
   "cell_type": "code",
   "execution_count": 21,
   "id": "0c001b38",
   "metadata": {},
   "outputs": [],
   "source": [
    "from sklearn.neighbors import KNeighborsClassifier\n",
    "from sklearn.pipeline import Pipeline"
   ]
  },
  {
   "cell_type": "code",
   "execution_count": 22,
   "id": "332a7851",
   "metadata": {},
   "outputs": [
    {
     "name": "stdout",
     "output_type": "stream",
     "text": [
      "Сеточный поиск занял 12.11 секунд\n"
     ]
    }
   ],
   "source": [
    "k_range = list(range(1,32))\n",
    "weight_options = [\"uniform\", \"distance\"]\n",
    "\n",
    "pipe_knn = Pipeline(steps=[('standard', StandardScaler()), ('PCA', PCA(n_components = 5)), ('knn', KNeighborsClassifier())])\n",
    "param_grid = {\n",
    "    'knn__n_neighbors': list(range(1,32))\n",
    "}\n",
    "\n",
    "knn = KNeighborsClassifier()\n",
    "kfold = KFold(n_splits = 5, random_state = my_seed, shuffle = True)\n",
    "grid = GridSearchCV(pipe_knn, param_grid, cv=kfold, scoring='accuracy')\n",
    "\n",
    "tic = time.perf_counter()\n",
    "grid.fit(X_train,y_train)\n",
    "toc = time.perf_counter()\n",
    "print(f\"Сеточный поиск занял {toc - tic:0.2f} секунд\", sep='')"
   ]
  },
  {
   "cell_type": "markdown",
   "id": "83bb8d77",
   "metadata": {},
   "source": [
    "Для повышения точности модели в PCA менялся параметр n_components, что позволило увеличить точность модели с 0,729 при n=1 до 0,895 при n=5."
   ]
  },
  {
   "cell_type": "code",
   "execution_count": 23,
   "id": "d4c34ef8",
   "metadata": {},
   "outputs": [
    {
     "name": "stdout",
     "output_type": "stream",
     "text": [
      "Acc с перекрёстной проверкой \n",
      "для модели sc_pca_svc : 1.0\n"
     ]
    }
   ],
   "source": [
    "score.append(np.around(grid.best_score_,3))\n",
    "score_models.append('sc_pca_knn')\n",
    "\n",
    "print('Acc с перекрёстной проверкой','\\nдля модели',score_models[1],':',score[1])"
   ]
  },
  {
   "cell_type": "markdown",
   "id": "2f03032f",
   "metadata": {},
   "source": [
    "## Прогноз на отложенные наблюдения по лучшей модели"
   ]
  },
  {
   "cell_type": "code",
   "execution_count": 24,
   "id": "ee17f098",
   "metadata": {},
   "outputs": [
    {
     "data": {
      "text/html": [
       "<div>\n",
       "<style scoped>\n",
       "    .dataframe tbody tr th:only-of-type {\n",
       "        vertical-align: middle;\n",
       "    }\n",
       "\n",
       "    .dataframe tbody tr th {\n",
       "        vertical-align: top;\n",
       "    }\n",
       "\n",
       "    .dataframe thead th {\n",
       "        text-align: right;\n",
       "    }\n",
       "</style>\n",
       "<table border=\"1\" class=\"dataframe\">\n",
       "  <thead>\n",
       "    <tr style=\"text-align: right;\">\n",
       "      <th></th>\n",
       "      <th>Модель</th>\n",
       "      <th>Acc</th>\n",
       "    </tr>\n",
       "  </thead>\n",
       "  <tbody>\n",
       "    <tr>\n",
       "      <th>0</th>\n",
       "      <td>sc_pca_logit</td>\n",
       "      <td>0.685</td>\n",
       "    </tr>\n",
       "    <tr>\n",
       "      <th>1</th>\n",
       "      <td>sc_pca_svc</td>\n",
       "      <td>1.000</td>\n",
       "    </tr>\n",
       "    <tr>\n",
       "      <th>2</th>\n",
       "      <td>sc_pca_knn</td>\n",
       "      <td>0.895</td>\n",
       "    </tr>\n",
       "  </tbody>\n",
       "</table>\n",
       "</div>"
      ],
      "text/plain": [
       "         Модель    Acc\n",
       "0  sc_pca_logit  0.685\n",
       "1    sc_pca_svc  1.000\n",
       "2    sc_pca_knn  0.895"
      ]
     },
     "execution_count": 24,
     "metadata": {},
     "output_type": "execute_result"
    }
   ],
   "source": [
    "# сводка по точности моделей\n",
    "pd.DataFrame({'Модель' : score_models, 'Acc' : score})"
   ]
  },
  {
   "cell_type": "markdown",
   "id": "8409c861",
   "metadata": {},
   "source": [
    "В данном случае модель PCA_SVC показывает большую точность, чем модель логистической регрессии.\n",
    "\n",
    "Сделаем прогноз на отложенные наблюдения с помощью второго ансамбля."
   ]
  },
  {
   "cell_type": "code",
   "execution_count": 25,
   "id": "3f646011",
   "metadata": {},
   "outputs": [
    {
     "name": "stdout",
     "output_type": "stream",
     "text": [
      "              precision    recall  f1-score   support\n",
      "\n",
      "           0       1.00      1.00      1.00       243\n",
      "           1       1.00      1.00      1.00       492\n",
      "\n",
      "    accuracy                           1.00       735\n",
      "   macro avg       1.00      1.00      1.00       735\n",
      "weighted avg       1.00      1.00      1.00       735\n",
      "\n"
     ]
    }
   ],
   "source": [
    "# прогноз с помощью лучшей модели ансамбля с SVC\n",
    "y_hat=gs.best_estimator_.predict(X=DF_predict.iloc[:, 0:12])\n",
    "# точность# характеристики точности\n",
    "print(classification_report(DF_predict.iloc[:,-1],y_hat))"
   ]
  }
 ],
 "metadata": {
  "kernelspec": {
   "display_name": "Python 3",
   "language": "python",
   "name": "python3"
  },
  "language_info": {
   "codemirror_mode": {
    "name": "ipython",
    "version": 3
   },
   "file_extension": ".py",
   "mimetype": "text/x-python",
   "name": "python",
   "nbconvert_exporter": "python",
   "pygments_lexer": "ipython3",
   "version": "3.8.8"
  }
 },
 "nbformat": 4,
 "nbformat_minor": 5
}
